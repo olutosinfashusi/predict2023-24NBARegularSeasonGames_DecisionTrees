{
 "cells": [
  {
   "cell_type": "code",
   "execution_count": 6,
   "id": "9b645468",
   "metadata": {},
   "outputs": [],
   "source": [
    "import pandas as pd\n",
    "import numpy as np\n",
    "import math as math\n",
    "import statistics\n",
    "import datetime\n",
    "import matplotlib.pyplot as plt\n",
    "import time\n",
    "from sklearn.tree import DecisionTreeClassifier\n",
    "from sklearn import tree\n",
    "pd.set_option('display.max_rows',500)\n",
    "pd.set_option('display.max_columns',500)\n",
    "pd.set_option('max_colwidth',1000) #\n",
    "pd.set_option('display.width', 150)\n",
    "# from functions import *"
   ]
  },
  {
   "cell_type": "markdown",
   "id": "7213f316",
   "metadata": {},
   "source": [
    "# GLOSSARY"
   ]
  },
  {
   "cell_type": "code",
   "execution_count": 7,
   "id": "26eeed46",
   "metadata": {},
   "outputs": [],
   "source": [
    "glossaryDF = pd.read_csv('/Users/olutosinfashusi/jupyter/csv/fromNBADOTCOM/glossary/glossary.csv')\n",
    "glossaryDict = {}\n",
    "for i in range(len(glossaryDF)):\n",
    "    stringInRow = glossaryDF.iloc[i].values[0]\n",
    "    if stringInRow == 'Name':\n",
    "        feature = glossaryDF.iloc[i-1].values[0]\n",
    "        feature = feature.upper()\n",
    "        glossaryDict[feature] = {}\n",
    "        glossaryDict[feature]['Name'] = {}\n",
    "        glossaryDict[feature]['Name'] = glossaryDF.iloc[i+1].values[0]\n",
    "        glossaryDict[feature]['Definition'] = {}\n",
    "        glossaryDict[feature]['Definition'] = glossaryDF.iloc[i+3].values[0]\n",
    "        glossaryDict[feature]['Type'] = {}\n",
    "        glossaryDict[feature]['Type'] = glossaryDF.iloc[i+5].values[0]\n",
    "        glossaryDict[feature]['Contexts'] = {}"
   ]
  },
  {
   "cell_type": "code",
   "execution_count": 8,
   "id": "8b23c2d8",
   "metadata": {},
   "outputs": [],
   "source": [
    "## ADDING DEFINITIONS FOR ADDITIONAL FEATURES CREATED TO GLOSSARY\n",
    "glossaryDict['H/A'] = {}\n",
    "glossaryDict['H/A']['Name'] = 'IS TEAM PLAYING HOME OR AWAY'\n",
    "glossaryDict['H/A']['Definition'] = '0:HOME 1:AWAY'\n",
    "\n",
    "glossaryDict['PTSA'] = {}\n",
    "glossaryDict['PTSA']['Name'] = 'Points Allowed'\n",
    "glossaryDict['PTSA']['Definition'] = 'The number of points allowed'\n",
    "\n",
    "glossaryDict['PTSDELTA'] = {}\n",
    "glossaryDict['PTSDELTA']['Name'] = 'Points Scored - Points Allowed'\n",
    "glossaryDict['PTSDELTA']['Definition'] = 'Points Scored - Points Allowed'\n",
    "\n",
    "glossaryDict['DAYSOFF'] = {}\n",
    "glossaryDict['DAYSOFF']['Name'] = 'Number of days since last game'\n",
    "glossaryDict['DAYSOFF']['Definition'] = 'Number of days since last game'\n",
    "\n",
    "glossaryDict['W%'] = {}\n",
    "glossaryDict['W%']['Name'] = 'The percentage of games played that a player or team has won'\n",
    "glossaryDict['W%']['Definition'] = 'The percentage of games played that a player or team has won'\n",
    "\n",
    "glossaryDict['L%'] = {}\n",
    "glossaryDict['L%']['Name'] = 'The percentage of games played that a player or team has lost'\n",
    "glossaryDict['L%']['Definition'] = 'The percentage of games played that a player or team has lost'"
   ]
  },
  {
   "cell_type": "code",
   "execution_count": null,
   "id": "7bae5fab",
   "metadata": {},
   "outputs": [],
   "source": []
  },
  {
   "cell_type": "code",
   "execution_count": 9,
   "id": "38e12b48",
   "metadata": {},
   "outputs": [],
   "source": [
    "def convertDateColumn(df):\n",
    "    locationToInsert = df.columns.get_loc('DATE')+1\n",
    "    dates = pd.to_datetime(df['DATE'],format=\"%m/%d/%y\").dt.date\n",
    "    df = df.drop(columns='DATE')\n",
    "    df.insert(locationToInsert,'DATE',dates)\n",
    "    df = df.sort_values(by=['DATE','GAMEID']).reset_index(drop=True)\n",
    "    return df\n",
    "def featureEngineering(boxScoreType,df):\n",
    "    if boxScoreType == 'TRADITIONAL':\n",
    "        featuresToAddDict = {'OPPT':[],'PTSA':[],'2FGA':[],'2FGM':[],'2FG%':[],\n",
    "                             'RESULT':[],'PTSDELTA':[],'H/A':[]}\n",
    "        for i in range(len(df)):\n",
    "            featuresToAddDict['OPPT'].append(df.iloc[i]['MATCH'][-3:])\n",
    "            if i % 2 == 0: featuresToAddDict['PTSA'].append(df.iloc[i+1]['PTS'])\n",
    "            else: featuresToAddDict['PTSA'].append(df.iloc[i-1]['PTS'])\n",
    "            if df['W/L'][i] == 'L': featuresToAddDict['RESULT'].append(0)\n",
    "            else: featuresToAddDict['RESULT'].append(1)\n",
    "            featuresToAddDict['H/A'].append(df['MATCH'][i].count('vs'))\n",
    "        df.insert(df.columns.get_loc('TEAM')+1,'OPPT',featuresToAddDict['OPPT'])\n",
    "        df.insert(df.columns.get_loc('PTS')+1,'PTSA',featuresToAddDict['PTSA'])\n",
    "        df.insert(df.columns.get_loc('FG%')+1,'2FGM',df['FGM'] - df['3PM'])\n",
    "        df.insert(df.columns.get_loc('FG%')+1,'2FGA',df['FGA'] - df['3PA']) \n",
    "        df.insert(df.columns.get_loc('FG%')+1,'2FG%',df['2FGM']/df['2FGA'])\n",
    "        df.insert(df.columns.get_loc('W/L')+1,'RESULT',featuresToAddDict['RESULT'])\n",
    "        df = df.drop(columns=['W/L'])\n",
    "        df.insert(df.columns.get_loc('PTSA')+1,'PTSDELTA',df['PTS']-df['PTSA'])\n",
    "        df.insert(df.columns.get_loc('DATE')+1,'H/A',featuresToAddDict['H/A'])\n",
    "        return df\n",
    "    else:\n",
    "        featuresToAddDict = {\"OPPT\":[],\"RESULT\":[],\"H/A\":[]}\n",
    "        for i in range(len(df)):\n",
    "            featuresToAddDict[\"OPPT\"].append(df.iloc[i]['MATCH'][-3:])\n",
    "            if df['W/L'][i] == 'L': featuresToAddDict[\"RESULT\"].append(0)\n",
    "            else: featuresToAddDict[\"RESULT\"].append(1)\n",
    "            featuresToAddDict[\"H/A\"].append(df['MATCH'][i].count('vs'))\n",
    "        df.insert(df.columns.get_loc('TEAM')+1,'OPPT',featuresToAddDict[\"OPPT\"])\n",
    "        df.insert(df.columns.get_loc('W/L')+1,'RESULT',featuresToAddDict[\"RESULT\"])\n",
    "        df = df.drop(columns=['W/L'])\n",
    "        df.insert(df.columns.get_loc('DATE')+1,'H/A',featuresToAddDict[\"H/A\"])\n",
    "        return df\n",
    "def addDaysOff(teamsDict):\n",
    "    for team in list(teamsDict.keys()):\n",
    "        daysOff = []\n",
    "        daysOff.append(np.nan)\n",
    "        for i in range(1,len(teamsDict[team]['DATE'])):\n",
    "            date = teamsDict[team]['DATE'][i]\n",
    "            prevDate = teamsDict[team]['DATE'][i-1] + datetime.timedelta(1)\n",
    "            daysOff.append((date - prevDate).days)\n",
    "        teamsDict[team]['DAYSOFF'] = daysOff\n",
    "def addAdditionalFeatures(df,teamsDict):\n",
    "    teams = []\n",
    "    for team in list(teamsDict.keys()):\n",
    "        teamDF = df[df['TEAM'] == team]\n",
    "        startingIndex = len(list(df.columns))\n",
    "        additionalFeatures = list(teamsDict[team].keys())[startingIndex:]\n",
    "        for feature in additionalFeatures:\n",
    "            teamDF = pd.concat([teamDF,\n",
    "                                pd.DataFrame(teamsDict[team][feature],columns=[feature],index=teamDF.index.values)],axis=1)\n",
    "        teams.append(teamDF)\n",
    "    return pd.concat(teams)\n",
    "\n",
    "def getTeamData(boxScoreType,df):\n",
    "    teamsDict = {}\n",
    "    features = df.columns.values\n",
    "    \n",
    "    if boxScoreType == 'TRADITIONAL': additionalFeatures = ['Ws','Ls','GP','W%','L%','AVGPTS','AVGPTSA']\n",
    "    else: additionalFeatures = ['GP']\n",
    "    for team in np.unique(df['TEAM']):\n",
    "        teamsDict[team] = {}\n",
    "    for team in np.unique(df['TEAM']):\n",
    "        for feature in features:\n",
    "            teamsDict[team][feature] = []\n",
    "        for feature in additionalFeatures:\n",
    "            teamsDict[team][feature] = []\n",
    "    for i in range(len(df)):\n",
    "        for feature in features:\n",
    "            team = df.iloc[i]['TEAM']\n",
    "            teamsDict[team][feature].append(df.iloc[i][feature])\n",
    "        for feature in additionalFeatures:\n",
    "            if feature == 'Ws': teamsDict[team][feature].append(teamsDict[team]['RESULT'].count(1))\n",
    "            if feature == 'Ls': teamsDict[team][feature].append(teamsDict[team]['RESULT'].count(0))\n",
    "            if feature == 'GP': teamsDict[team][feature].append(len(teamsDict[team]['RESULT']))\n",
    "            if feature == 'W%': teamsDict[team][feature].append(teamsDict[team]['Ws'][-1]/teamsDict[team]['GP'][-1])\n",
    "            if feature == 'L%': teamsDict[team][feature].append(teamsDict[team]['Ls'][-1]/teamsDict[team]['GP'][-1])\n",
    "            if feature == 'AVGPTS': teamsDict[team][feature].append(np.mean(teamsDict[team]['PTS']))\n",
    "            if feature == 'AVGPTSA': teamsDict[team][feature].append(np.mean(teamsDict[team]['PTSA']))\n",
    "    return teamsDict\n",
    "\n",
    "def addMovingAverageLx(featureStringsDict,teamDict,x):\n",
    "    for team in list(teamsDict.keys()):\n",
    "        for feature in featureStringsDict.keys():\n",
    "            ma = []\n",
    "            for _ in range(x): ma.append(np.nan)\n",
    "            for maRange in range(0,len(teamsDict[team][feature])-x):\n",
    "                ma.append(np.mean(teamsDict[team][feature][maRange:(x+maRange)]))\n",
    "            teamsDict[team][featureStringsDict[feature].replace('x',str(x))] = ma\n",
    "                \n",
    "def addPercentMovingAverageLx(featureStringsDict,teamsDict,x):\n",
    "    for team in list(teamsDict.keys()):\n",
    "        for features in featureStringsDict.keys():\n",
    "            ma = []\n",
    "            for _ in range(x): ma.append(np.nan)\n",
    "            for maRange in range(0,len(teamsDict[team][features[0]])-x):\n",
    "                num = np.sum(teamsDict[team][features[0]][maRange:(x+maRange)])\n",
    "                dem = np.sum(teamsDict[team][features[1]][maRange:(x+maRange)])\n",
    "                ma.append(num/dem)\n",
    "            teamsDict[team][featureStringsDict[features].replace('x',str(x))] = ma"
   ]
  },
  {
   "cell_type": "code",
   "execution_count": 10,
   "id": "6f40c9ee",
   "metadata": {},
   "outputs": [
    {
     "name": "stdout",
     "output_type": "stream",
     "text": [
      "33.34466910362244 seconds\n"
     ]
    }
   ],
   "source": [
    "start_time = time.time()\n",
    "traditionalDF = pd.read_csv('/Users/olutosinfashusi/jupyter/csv/fromNBADOTCOM/2023-24/byGame/Traditional.csv')\n",
    "traditionalDF = convertDateColumn(traditionalDF)\n",
    "traditionalDF = featureEngineering('TRADITIONAL',traditionalDF)\n",
    "teamsDict = getTeamData('TRADITIONAL',traditionalDF)\n",
    "print(\"%s seconds\" % (time.time() - start_time))"
   ]
  },
  {
   "cell_type": "code",
   "execution_count": 11,
   "id": "b501e76f",
   "metadata": {},
   "outputs": [
    {
     "name": "stderr",
     "output_type": "stream",
     "text": [
      "<ipython-input-9-8b2e36489fd7>:106: RuntimeWarning: invalid value encountered in scalar divide\n",
      "  ma.append(num/dem)\n"
     ]
    },
    {
     "name": "stdout",
     "output_type": "stream",
     "text": [
      "19.343222856521606 seconds\n"
     ]
    }
   ],
   "source": [
    "start_time = time.time()\n",
    "features = ['PTS','PTSA','PTSDELTA','FGM','FGA','2FGA','2FGM','3PM','3PA','FTM','FTA','OREB',\n",
    "            'DREB','REB','AST','STL','BLK','TOV','PF']\n",
    "featureStringsDict = {}\n",
    "for feature in features: featureStringsDict[feature] = feature+'LxMA'\n",
    "addMovingAverageLx(featureStringsDict,teamsDict,5)\n",
    "addMovingAverageLx(featureStringsDict,teamsDict,4)\n",
    "addMovingAverageLx(featureStringsDict,teamsDict,3)\n",
    "addMovingAverageLx(featureStringsDict,teamsDict,2)\n",
    "addMovingAverageLx(featureStringsDict,teamsDict,1)\n",
    "\n",
    "\n",
    "features = [('FGM','FGA'),('2FGM','2FGA'),('3PM','3PA'),('FTM','FTA'),('Ws','GP')]\n",
    "featureStringsDict = {}\n",
    "\n",
    "for feature in features:\n",
    "    if feature == ('FGM','FGA'): featureStringsDict[feature] = 'FG%LxMA'\n",
    "    if feature == ('2FGM','2FGA'): featureStringsDict[feature] = '2FG%LxMA'\n",
    "    if feature == ('3PM','3PA'): featureStringsDict[feature] = '3P%LxMA'\n",
    "    if feature == ('FTM','FTA'): featureStringsDict[feature] = 'FT%LxMA'\n",
    "    if feature == ('Ws','GP'): featureStringsDict[feature] = 'W%LxMA'\n",
    "        \n",
    "addPercentMovingAverageLx(featureStringsDict,teamsDict,5)\n",
    "addPercentMovingAverageLx(featureStringsDict,teamsDict,4)\n",
    "addPercentMovingAverageLx(featureStringsDict,teamsDict,3)\n",
    "addPercentMovingAverageLx(featureStringsDict,teamsDict,2)\n",
    "addPercentMovingAverageLx(featureStringsDict,teamsDict,1)\n",
    "\n",
    "addDaysOff(teamsDict)\n",
    "traditionalDF = addAdditionalFeatures(traditionalDF,teamsDict)\n",
    "traditionalDF = traditionalDF.sort_values(by=['DATE','GAMEID','H/A']).reset_index(drop=True)\n",
    "print(\"%s seconds\" % (time.time() - start_time))"
   ]
  },
  {
   "cell_type": "code",
   "execution_count": 12,
   "id": "505250b0",
   "metadata": {},
   "outputs": [
    {
     "name": "stdout",
     "output_type": "stream",
     "text": [
      "In rare occasion on 4/9/24 Celtics attempted 0 free throws vs Bucks [see below]\n",
      "Causing a warning while calculating Celtics FT%L1MA\n",
      "FT%L1MA feature is not used during ... \n"
     ]
    },
    {
     "data": {
      "text/html": [
       "<div>\n",
       "<style scoped>\n",
       "    .dataframe tbody tr th:only-of-type {\n",
       "        vertical-align: middle;\n",
       "    }\n",
       "\n",
       "    .dataframe tbody tr th {\n",
       "        vertical-align: top;\n",
       "    }\n",
       "\n",
       "    .dataframe thead th {\n",
       "        text-align: right;\n",
       "    }\n",
       "</style>\n",
       "<table border=\"1\" class=\"dataframe\">\n",
       "  <thead>\n",
       "    <tr style=\"text-align: right;\">\n",
       "      <th></th>\n",
       "      <th>TEAM</th>\n",
       "      <th>OPPT</th>\n",
       "      <th>TEAMID</th>\n",
       "      <th>MATCH</th>\n",
       "      <th>GAMEID</th>\n",
       "      <th>RESULT</th>\n",
       "      <th>DATE</th>\n",
       "      <th>H/A</th>\n",
       "      <th>SPREAD</th>\n",
       "      <th>O/U</th>\n",
       "      <th>MIN</th>\n",
       "      <th>PTS</th>\n",
       "      <th>PTSA</th>\n",
       "      <th>PTSDELTA</th>\n",
       "      <th>FGM</th>\n",
       "      <th>FGA</th>\n",
       "      <th>FG%</th>\n",
       "      <th>2FG%</th>\n",
       "      <th>2FGA</th>\n",
       "      <th>2FGM</th>\n",
       "      <th>3PM</th>\n",
       "      <th>3PA</th>\n",
       "      <th>3P%</th>\n",
       "      <th>FTM</th>\n",
       "      <th>FTA</th>\n",
       "      <th>FT%</th>\n",
       "      <th>OREB</th>\n",
       "      <th>DREB</th>\n",
       "      <th>REB</th>\n",
       "      <th>AST</th>\n",
       "      <th>STL</th>\n",
       "      <th>BLK</th>\n",
       "      <th>TOV</th>\n",
       "      <th>PF</th>\n",
       "      <th>+/-</th>\n",
       "      <th>Ws</th>\n",
       "      <th>Ls</th>\n",
       "      <th>GP</th>\n",
       "      <th>W%</th>\n",
       "      <th>L%</th>\n",
       "      <th>AVGPTS</th>\n",
       "      <th>AVGPTSA</th>\n",
       "      <th>PTSL5MA</th>\n",
       "      <th>PTSAL5MA</th>\n",
       "      <th>PTSDELTAL5MA</th>\n",
       "      <th>FGML5MA</th>\n",
       "      <th>FGAL5MA</th>\n",
       "      <th>2FGAL5MA</th>\n",
       "      <th>2FGML5MA</th>\n",
       "      <th>3PML5MA</th>\n",
       "      <th>3PAL5MA</th>\n",
       "      <th>FTML5MA</th>\n",
       "      <th>FTAL5MA</th>\n",
       "      <th>OREBL5MA</th>\n",
       "      <th>DREBL5MA</th>\n",
       "      <th>REBL5MA</th>\n",
       "      <th>ASTL5MA</th>\n",
       "      <th>STLL5MA</th>\n",
       "      <th>BLKL5MA</th>\n",
       "      <th>TOVL5MA</th>\n",
       "      <th>PFL5MA</th>\n",
       "      <th>PTSL4MA</th>\n",
       "      <th>PTSAL4MA</th>\n",
       "      <th>PTSDELTAL4MA</th>\n",
       "      <th>FGML4MA</th>\n",
       "      <th>FGAL4MA</th>\n",
       "      <th>2FGAL4MA</th>\n",
       "      <th>2FGML4MA</th>\n",
       "      <th>3PML4MA</th>\n",
       "      <th>3PAL4MA</th>\n",
       "      <th>FTML4MA</th>\n",
       "      <th>FTAL4MA</th>\n",
       "      <th>OREBL4MA</th>\n",
       "      <th>DREBL4MA</th>\n",
       "      <th>REBL4MA</th>\n",
       "      <th>ASTL4MA</th>\n",
       "      <th>STLL4MA</th>\n",
       "      <th>BLKL4MA</th>\n",
       "      <th>TOVL4MA</th>\n",
       "      <th>PFL4MA</th>\n",
       "      <th>PTSL3MA</th>\n",
       "      <th>PTSAL3MA</th>\n",
       "      <th>PTSDELTAL3MA</th>\n",
       "      <th>FGML3MA</th>\n",
       "      <th>FGAL3MA</th>\n",
       "      <th>2FGAL3MA</th>\n",
       "      <th>2FGML3MA</th>\n",
       "      <th>3PML3MA</th>\n",
       "      <th>3PAL3MA</th>\n",
       "      <th>FTML3MA</th>\n",
       "      <th>FTAL3MA</th>\n",
       "      <th>OREBL3MA</th>\n",
       "      <th>DREBL3MA</th>\n",
       "      <th>REBL3MA</th>\n",
       "      <th>ASTL3MA</th>\n",
       "      <th>STLL3MA</th>\n",
       "      <th>BLKL3MA</th>\n",
       "      <th>TOVL3MA</th>\n",
       "      <th>PFL3MA</th>\n",
       "      <th>PTSL2MA</th>\n",
       "      <th>PTSAL2MA</th>\n",
       "      <th>PTSDELTAL2MA</th>\n",
       "      <th>FGML2MA</th>\n",
       "      <th>FGAL2MA</th>\n",
       "      <th>2FGAL2MA</th>\n",
       "      <th>2FGML2MA</th>\n",
       "      <th>3PML2MA</th>\n",
       "      <th>3PAL2MA</th>\n",
       "      <th>FTML2MA</th>\n",
       "      <th>FTAL2MA</th>\n",
       "      <th>OREBL2MA</th>\n",
       "      <th>DREBL2MA</th>\n",
       "      <th>REBL2MA</th>\n",
       "      <th>ASTL2MA</th>\n",
       "      <th>STLL2MA</th>\n",
       "      <th>BLKL2MA</th>\n",
       "      <th>TOVL2MA</th>\n",
       "      <th>PFL2MA</th>\n",
       "      <th>PTSL1MA</th>\n",
       "      <th>PTSAL1MA</th>\n",
       "      <th>PTSDELTAL1MA</th>\n",
       "      <th>FGML1MA</th>\n",
       "      <th>FGAL1MA</th>\n",
       "      <th>2FGAL1MA</th>\n",
       "      <th>2FGML1MA</th>\n",
       "      <th>3PML1MA</th>\n",
       "      <th>3PAL1MA</th>\n",
       "      <th>FTML1MA</th>\n",
       "      <th>FTAL1MA</th>\n",
       "      <th>OREBL1MA</th>\n",
       "      <th>DREBL1MA</th>\n",
       "      <th>REBL1MA</th>\n",
       "      <th>ASTL1MA</th>\n",
       "      <th>STLL1MA</th>\n",
       "      <th>BLKL1MA</th>\n",
       "      <th>TOVL1MA</th>\n",
       "      <th>PFL1MA</th>\n",
       "      <th>FG%L5MA</th>\n",
       "      <th>2FG%L5MA</th>\n",
       "      <th>3P%L5MA</th>\n",
       "      <th>FT%L5MA</th>\n",
       "      <th>W%L5MA</th>\n",
       "      <th>FG%L4MA</th>\n",
       "      <th>2FG%L4MA</th>\n",
       "      <th>3P%L4MA</th>\n",
       "      <th>FT%L4MA</th>\n",
       "      <th>W%L4MA</th>\n",
       "      <th>FG%L3MA</th>\n",
       "      <th>2FG%L3MA</th>\n",
       "      <th>3P%L3MA</th>\n",
       "      <th>FT%L3MA</th>\n",
       "      <th>W%L3MA</th>\n",
       "      <th>FG%L2MA</th>\n",
       "      <th>2FG%L2MA</th>\n",
       "      <th>3P%L2MA</th>\n",
       "      <th>FT%L2MA</th>\n",
       "      <th>W%L2MA</th>\n",
       "      <th>FG%L1MA</th>\n",
       "      <th>2FG%L1MA</th>\n",
       "      <th>3P%L1MA</th>\n",
       "      <th>FT%L1MA</th>\n",
       "      <th>W%L1MA</th>\n",
       "      <th>DAYSOFF</th>\n",
       "    </tr>\n",
       "  </thead>\n",
       "  <tbody>\n",
       "    <tr>\n",
       "      <th>2354</th>\n",
       "      <td>BOS</td>\n",
       "      <td>MIL</td>\n",
       "      <td>1610612738</td>\n",
       "      <td>BOS @ MIL</td>\n",
       "      <td>22301148</td>\n",
       "      <td>0</td>\n",
       "      <td>2024-04-09</td>\n",
       "      <td>0</td>\n",
       "      <td>3.5</td>\n",
       "      <td>231.0</td>\n",
       "      <td>240</td>\n",
       "      <td>91</td>\n",
       "      <td>104</td>\n",
       "      <td>-13</td>\n",
       "      <td>37</td>\n",
       "      <td>93</td>\n",
       "      <td>39.8</td>\n",
       "      <td>0.487805</td>\n",
       "      <td>41</td>\n",
       "      <td>20</td>\n",
       "      <td>17</td>\n",
       "      <td>52</td>\n",
       "      <td>32.7</td>\n",
       "      <td>0</td>\n",
       "      <td>0</td>\n",
       "      <td>0.0</td>\n",
       "      <td>12</td>\n",
       "      <td>26</td>\n",
       "      <td>38</td>\n",
       "      <td>27</td>\n",
       "      <td>11</td>\n",
       "      <td>4</td>\n",
       "      <td>12</td>\n",
       "      <td>8</td>\n",
       "      <td>-13</td>\n",
       "      <td>62</td>\n",
       "      <td>17</td>\n",
       "      <td>79</td>\n",
       "      <td>0.78481</td>\n",
       "      <td>0.21519</td>\n",
       "      <td>120.443038</td>\n",
       "      <td>109.101266</td>\n",
       "      <td>116.4</td>\n",
       "      <td>100.6</td>\n",
       "      <td>15.8</td>\n",
       "      <td>43.8</td>\n",
       "      <td>87.8</td>\n",
       "      <td>45.4</td>\n",
       "      <td>28.0</td>\n",
       "      <td>15.8</td>\n",
       "      <td>42.4</td>\n",
       "      <td>13.0</td>\n",
       "      <td>15.6</td>\n",
       "      <td>9.4</td>\n",
       "      <td>38.4</td>\n",
       "      <td>47.8</td>\n",
       "      <td>29.4</td>\n",
       "      <td>6.8</td>\n",
       "      <td>6.4</td>\n",
       "      <td>11.2</td>\n",
       "      <td>13.8</td>\n",
       "      <td>119.5</td>\n",
       "      <td>102.75</td>\n",
       "      <td>16.75</td>\n",
       "      <td>45.0</td>\n",
       "      <td>89.25</td>\n",
       "      <td>45.5</td>\n",
       "      <td>29.0</td>\n",
       "      <td>16.0</td>\n",
       "      <td>43.75</td>\n",
       "      <td>13.5</td>\n",
       "      <td>16.5</td>\n",
       "      <td>9.75</td>\n",
       "      <td>37.25</td>\n",
       "      <td>47.0</td>\n",
       "      <td>30.0</td>\n",
       "      <td>6.75</td>\n",
       "      <td>6.25</td>\n",
       "      <td>10.75</td>\n",
       "      <td>14.0</td>\n",
       "      <td>120.0</td>\n",
       "      <td>102.333333</td>\n",
       "      <td>17.666667</td>\n",
       "      <td>45.666667</td>\n",
       "      <td>89.333333</td>\n",
       "      <td>48.666667</td>\n",
       "      <td>30.666667</td>\n",
       "      <td>15.0</td>\n",
       "      <td>40.666667</td>\n",
       "      <td>13.666667</td>\n",
       "      <td>16.666667</td>\n",
       "      <td>9.333333</td>\n",
       "      <td>36.333333</td>\n",
       "      <td>45.666667</td>\n",
       "      <td>30.666667</td>\n",
       "      <td>8.0</td>\n",
       "      <td>7.333333</td>\n",
       "      <td>10.666667</td>\n",
       "      <td>13.666667</td>\n",
       "      <td>112.5</td>\n",
       "      <td>103.5</td>\n",
       "      <td>9.0</td>\n",
       "      <td>43.5</td>\n",
       "      <td>88.0</td>\n",
       "      <td>47.0</td>\n",
       "      <td>29.5</td>\n",
       "      <td>14.0</td>\n",
       "      <td>41.0</td>\n",
       "      <td>11.5</td>\n",
       "      <td>15.5</td>\n",
       "      <td>8.5</td>\n",
       "      <td>37.0</td>\n",
       "      <td>45.5</td>\n",
       "      <td>29.5</td>\n",
       "      <td>8.5</td>\n",
       "      <td>6.0</td>\n",
       "      <td>10.5</td>\n",
       "      <td>11.5</td>\n",
       "      <td>124.0</td>\n",
       "      <td>107.0</td>\n",
       "      <td>17.0</td>\n",
       "      <td>49.0</td>\n",
       "      <td>87.0</td>\n",
       "      <td>49.0</td>\n",
       "      <td>33.0</td>\n",
       "      <td>16.0</td>\n",
       "      <td>38.0</td>\n",
       "      <td>10.0</td>\n",
       "      <td>13.0</td>\n",
       "      <td>5.0</td>\n",
       "      <td>35.0</td>\n",
       "      <td>40.0</td>\n",
       "      <td>34.0</td>\n",
       "      <td>11.0</td>\n",
       "      <td>8.0</td>\n",
       "      <td>13.0</td>\n",
       "      <td>12.0</td>\n",
       "      <td>0.498861</td>\n",
       "      <td>0.61674</td>\n",
       "      <td>0.372642</td>\n",
       "      <td>0.833333</td>\n",
       "      <td>0.789474</td>\n",
       "      <td>0.504202</td>\n",
       "      <td>0.637363</td>\n",
       "      <td>0.365714</td>\n",
       "      <td>0.818182</td>\n",
       "      <td>0.79085</td>\n",
       "      <td>0.511194</td>\n",
       "      <td>0.630137</td>\n",
       "      <td>0.368852</td>\n",
       "      <td>0.82</td>\n",
       "      <td>0.792208</td>\n",
       "      <td>0.494318</td>\n",
       "      <td>0.62766</td>\n",
       "      <td>0.341463</td>\n",
       "      <td>0.741935</td>\n",
       "      <td>0.793548</td>\n",
       "      <td>0.563218</td>\n",
       "      <td>0.673469</td>\n",
       "      <td>0.421053</td>\n",
       "      <td>0.769231</td>\n",
       "      <td>0.794872</td>\n",
       "      <td>1.0</td>\n",
       "    </tr>\n",
       "  </tbody>\n",
       "</table>\n",
       "</div>"
      ],
      "text/plain": [
       "     TEAM OPPT      TEAMID      MATCH    GAMEID  RESULT        DATE  H/A  SPREAD    O/U  MIN  PTS  PTSA  PTSDELTA  FGM  FGA   FG%      2FG%  2FGA  \\\n",
       "2354  BOS  MIL  1610612738  BOS @ MIL  22301148       0  2024-04-09    0     3.5  231.0  240   91   104       -13   37   93  39.8  0.487805    41   \n",
       "\n",
       "      2FGM  3PM  3PA   3P%  FTM  FTA  FT%  OREB  DREB  REB  AST  STL  BLK  TOV  PF  +/-  Ws  Ls  GP       W%       L%      AVGPTS     AVGPTSA  \\\n",
       "2354    20   17   52  32.7    0    0  0.0    12    26   38   27   11    4   12   8  -13  62  17  79  0.78481  0.21519  120.443038  109.101266   \n",
       "\n",
       "      PTSL5MA  PTSAL5MA  PTSDELTAL5MA  FGML5MA  FGAL5MA  2FGAL5MA  2FGML5MA  3PML5MA  3PAL5MA  FTML5MA  FTAL5MA  OREBL5MA  DREBL5MA  REBL5MA  \\\n",
       "2354    116.4     100.6          15.8     43.8     87.8      45.4      28.0     15.8     42.4     13.0     15.6       9.4      38.4     47.8   \n",
       "\n",
       "      ASTL5MA  STLL5MA  BLKL5MA  TOVL5MA  PFL5MA  PTSL4MA  PTSAL4MA  PTSDELTAL4MA  FGML4MA  FGAL4MA  2FGAL4MA  2FGML4MA  3PML4MA  3PAL4MA  FTML4MA  \\\n",
       "2354     29.4      6.8      6.4     11.2    13.8    119.5    102.75         16.75     45.0    89.25      45.5      29.0     16.0    43.75     13.5   \n",
       "\n",
       "      FTAL4MA  OREBL4MA  DREBL4MA  REBL4MA  ASTL4MA  STLL4MA  BLKL4MA  TOVL4MA  PFL4MA  PTSL3MA    PTSAL3MA  PTSDELTAL3MA    FGML3MA    FGAL3MA  \\\n",
       "2354     16.5      9.75     37.25     47.0     30.0     6.75     6.25    10.75    14.0    120.0  102.333333     17.666667  45.666667  89.333333   \n",
       "\n",
       "       2FGAL3MA   2FGML3MA  3PML3MA    3PAL3MA    FTML3MA    FTAL3MA  OREBL3MA   DREBL3MA    REBL3MA    ASTL3MA  STLL3MA   BLKL3MA    TOVL3MA  \\\n",
       "2354  48.666667  30.666667     15.0  40.666667  13.666667  16.666667  9.333333  36.333333  45.666667  30.666667      8.0  7.333333  10.666667   \n",
       "\n",
       "         PFL3MA  PTSL2MA  PTSAL2MA  PTSDELTAL2MA  FGML2MA  FGAL2MA  2FGAL2MA  2FGML2MA  3PML2MA  3PAL2MA  FTML2MA  FTAL2MA  OREBL2MA  DREBL2MA  \\\n",
       "2354  13.666667    112.5     103.5           9.0     43.5     88.0      47.0      29.5     14.0     41.0     11.5     15.5       8.5      37.0   \n",
       "\n",
       "      REBL2MA  ASTL2MA  STLL2MA  BLKL2MA  TOVL2MA  PFL2MA  PTSL1MA  PTSAL1MA  PTSDELTAL1MA  FGML1MA  FGAL1MA  2FGAL1MA  2FGML1MA  3PML1MA  3PAL1MA  \\\n",
       "2354     45.5     29.5      8.5      6.0     10.5    11.5    124.0     107.0          17.0     49.0     87.0      49.0      33.0     16.0     38.0   \n",
       "\n",
       "      FTML1MA  FTAL1MA  OREBL1MA  DREBL1MA  REBL1MA  ASTL1MA  STLL1MA  BLKL1MA  TOVL1MA  PFL1MA   FG%L5MA  2FG%L5MA   3P%L5MA   FT%L5MA    W%L5MA  \\\n",
       "2354     10.0     13.0       5.0      35.0     40.0     34.0     11.0      8.0     13.0    12.0  0.498861   0.61674  0.372642  0.833333  0.789474   \n",
       "\n",
       "       FG%L4MA  2FG%L4MA   3P%L4MA   FT%L4MA   W%L4MA   FG%L3MA  2FG%L3MA   3P%L3MA  FT%L3MA    W%L3MA   FG%L2MA  2FG%L2MA   3P%L2MA   FT%L2MA  \\\n",
       "2354  0.504202  0.637363  0.365714  0.818182  0.79085  0.511194  0.630137  0.368852     0.82  0.792208  0.494318   0.62766  0.341463  0.741935   \n",
       "\n",
       "        W%L2MA   FG%L1MA  2FG%L1MA   3P%L1MA   FT%L1MA    W%L1MA  DAYSOFF  \n",
       "2354  0.793548  0.563218  0.673469  0.421053  0.769231  0.794872      1.0  "
      ]
     },
     "execution_count": 12,
     "metadata": {},
     "output_type": "execute_result"
    }
   ],
   "source": [
    "print('In rare occasion on 4/9/24 Celtics attempted 0 free throws vs Bucks [see below]')\n",
    "print('Causing a warning while calculating Celtics FT%L1MA')\n",
    "print('FT%L1MA feature is not used during ... ')\n",
    "traditionalDF[traditionalDF['FTA'] == 0]"
   ]
  },
  {
   "cell_type": "code",
   "execution_count": 13,
   "id": "88cdce1e",
   "metadata": {},
   "outputs": [
    {
     "name": "stdout",
     "output_type": "stream",
     "text": [
      "['H/A', 'PTSL5MA', 'PTSAL5MA', 'PTSDELTAL5MA', 'FGML5MA', 'FGAL5MA', '2FGAL5MA', '2FGML5MA', '3PML5MA', '3PAL5MA', 'FTML5MA', 'FTAL5MA', 'OREBL5MA', 'DREBL5MA', 'REBL5MA', 'ASTL5MA', 'STLL5MA', 'BLKL5MA', 'TOVL5MA', 'PFL5MA', 'PTSL4MA', 'PTSAL4MA', 'PTSDELTAL4MA', 'FGML4MA', 'FGAL4MA', '2FGAL4MA', '2FGML4MA', '3PML4MA', '3PAL4MA', 'FTML4MA', 'FTAL4MA', 'OREBL4MA', 'DREBL4MA', 'REBL4MA', 'ASTL4MA', 'STLL4MA', 'BLKL4MA', 'TOVL4MA', 'PFL4MA', 'PTSL3MA', 'PTSAL3MA', 'PTSDELTAL3MA', 'FGML3MA', 'FGAL3MA', '2FGAL3MA', '2FGML3MA', '3PML3MA', '3PAL3MA', 'FTML3MA', 'FTAL3MA', 'OREBL3MA', 'DREBL3MA', 'REBL3MA', 'ASTL3MA', 'STLL3MA', 'BLKL3MA', 'TOVL3MA', 'PFL3MA', 'PTSL2MA', 'PTSAL2MA', 'PTSDELTAL2MA', 'FGML2MA', 'FGAL2MA', '2FGAL2MA', '2FGML2MA', '3PML2MA', '3PAL2MA', 'FTML2MA', 'FTAL2MA', 'OREBL2MA', 'DREBL2MA', 'REBL2MA', 'ASTL2MA', 'STLL2MA', 'BLKL2MA', 'TOVL2MA', 'PFL2MA', 'PTSL1MA', 'PTSAL1MA', 'PTSDELTAL1MA', 'FGML1MA', 'FGAL1MA', '2FGAL1MA', '2FGML1MA', '3PML1MA', '3PAL1MA', 'FTML1MA', 'FTAL1MA', 'OREBL1MA', 'DREBL1MA', 'REBL1MA', 'ASTL1MA', 'STLL1MA', 'BLKL1MA', 'TOVL1MA', 'PFL1MA', 'FG%L5MA', '2FG%L5MA', '3P%L5MA', 'FT%L5MA', 'W%L5MA', 'FG%L4MA', '2FG%L4MA', '3P%L4MA', 'FT%L4MA', 'W%L4MA', 'FG%L3MA', '2FG%L3MA', '3P%L3MA', 'FT%L3MA', 'W%L3MA', 'FG%L2MA', '2FG%L2MA', '3P%L2MA', 'FT%L2MA', 'W%L2MA', 'FG%L1MA', '2FG%L1MA', '3P%L1MA', 'FT%L1MA', 'W%L1MA', 'DAYSOFF']\n"
     ]
    }
   ],
   "source": [
    "traditionalFeatures = list(traditionalDF.columns)\n",
    "columnsToRemove = np.array(['TEAM','OPPT','TEAMID','MATCH','GAMEID','RESULT','DATE',\n",
    "                            'SPREAD','O/U','MIN','PTS','PTSA','PTSDELTA','FGM','FGA','FG%',\n",
    "                            '2FG%','2FGA','2FGM','3PM','3PA','3P%','FTM','FTA','FT%','OREB',\n",
    "                            'DREB','REB','AST','STL','BLK','TOV','PF','+/-','Ws','Ls', 'GP',\n",
    "                            'W%', 'L%', 'AVGPTS','AVGPTSA'])\n",
    "for feature in columnsToRemove: traditionalFeatures.remove(feature)\n",
    "print(traditionalFeatures)"
   ]
  },
  {
   "cell_type": "code",
   "execution_count": null,
   "id": "8ace3ee2",
   "metadata": {},
   "outputs": [],
   "source": []
  },
  {
   "cell_type": "code",
   "execution_count": 14,
   "id": "5d2c3cb9",
   "metadata": {},
   "outputs": [],
   "source": [
    "def train(NBAdf,date,maxDepth):\n",
    "    models = {}\n",
    "    NBAtrain = NBAdf[NBAdf['GAME DATE'] < date].dropna()\n",
    "    teamsPlayingToday = list(NBAdf[NBAdf['GAME DATE'] == date]['TEAM'])\n",
    "    for team in teamsPlayingToday:\n",
    "        models[team] = {}\n",
    "        models[team]['model'] = {}\n",
    "        models[team]['trainSize'] = {}\n",
    "    for team in teamsPlayingToday: \n",
    "        X_trainDF = pd.DataFrame()\n",
    "        y_trainDF = pd.DataFrame()\n",
    "        for feature in possibleFeatures:\n",
    "            X_trainDF = pd.concat([X_trainDF,NBAtrain[NBAtrain['TEAM'] == team][feature]],axis=1)\n",
    "        y_trainDF = NBAtrain[NBAtrain['TEAM'] == team]['RESULT']\n",
    "        model = DecisionTreeClassifier(random_state=0,max_depth=maxDepth) #,min_samples_leaf=10)\n",
    "        model.fit(X_trainDF,y_trainDF) \n",
    "        models[team]['model'] = model\n",
    "        models[team]['trainSize'] = len(X_trainDF)\n",
    "    return models\n",
    "def test(NBAdf,date,models,modelResultDetails):\n",
    "    teamsPlayingToday = list(NBAdf[NBAdf['GAME DATE'] == date]['TEAM'])\n",
    "    NBAtest = NBAdf[NBAdf['GAME DATE'] == date] \n",
    "    for team in teamsPlayingToday:\n",
    "        X_testDF = pd.DataFrame()\n",
    "        y_testDF = pd.DataFrame()\n",
    "        for feature in possibleFeatures:\n",
    "            X_testDF = pd.concat([X_testDF,NBAtest[NBAtest['TEAM'] == team][feature]],axis=1)\n",
    "        y_testDF = NBAtest[NBAtest['TEAM'] == team]['RESULT']\n",
    "        paths = {}\n",
    "        paths[team] = {}\n",
    "        path = models[team]['model'].decision_path(X_testDF).indices #Return the decision path in the tree\n",
    "        for i in range (len(path)):\n",
    "            if models[team]['model'].tree_.children_left[path[i]] == -1 and models[team]['model'].tree_.children_right[path[i]] == -1: break;\n",
    "            if path[i+1] == models[team]['model'].tree_.children_left[path[i]]:\n",
    "                paths[team][i] = (X_testDF.columns[models[team]['model'].tree_.feature[path[i]]],\n",
    "                                  float('%.3f'%models[team]['model'].tree_.threshold[path[i]]))\n",
    "            if path[i+1] == models[team]['model'].tree_.children_right[path[i]]:\n",
    "                paths[team][i] = (X_testDF.columns[models[team]['model'].tree_.feature[path[i]]],\n",
    "                                  float('%.3f'%models[team]['model'].tree_.threshold[path[i]]))\n",
    "        X_test = []\n",
    "        for team in paths:\n",
    "            for depth in paths[team]:\n",
    "                feature = paths[team][depth][0]   #tuple\n",
    "                threshold = paths[team][depth][1] #tuple\n",
    "                X_test.append((feature,\n",
    "                               float('%.3f'%X_testDF[feature].values[0]),\n",
    "                               getTrueOrFalse(X_testDF[feature].values[0],threshold)))\n",
    "        finalNodeDetails = (path[-1],\n",
    "                            models[team]['model'].tree_.value[path[-1],0,0],\n",
    "                            models[team]['model'].tree_.value[path[-1],0,1])\n",
    "                            \n",
    "        modelResultDetails[date][team] = {'DATE':date,\n",
    "                                          'GAMEID':NBAtest[NBAtest['TEAM'] == team]['GAMEID'].values[0],\n",
    "                                          'TRAIN SIZE':models[team]['trainSize'],\n",
    "                                          'SPLIT DETAILS':paths[team],\n",
    "                                          'X_test':X_test,\n",
    "                                          'FINAL NODE DETAILS':finalNodeDetails,\n",
    "                                          'PROBABILITY ESTIMATE':models[team]['model'].predict_proba(X_testDF)[0][1],\n",
    "                                          'MODEL PREDICTS':models[team]['model'].predict(X_testDF)[0],\n",
    "                                          'RESULT':y_testDF.values[0],\n",
    "                                          'SPREAD':NBAtest[NBAtest['TEAM'] == team]['SPREAD'].values[0]}\n",
    "def getTrueOrFalse(X_test,threshold):\n",
    "    if X_test <= threshold: return 'T'\n",
    "    else: return 'F'"
   ]
  },
  {
   "cell_type": "markdown",
   "id": "be28c3ac",
   "metadata": {},
   "source": [
    "## TRAIN ON PREVIOUS GAMES AND TEST ON TODAY'S GAMES"
   ]
  },
  {
   "cell_type": "code",
   "execution_count": 9,
   "id": "52ffed55",
   "metadata": {},
   "outputs": [
    {
     "name": "stdout",
     "output_type": "stream",
     "text": [
      "2024-02-22\n",
      "\ttrain depth 1 complete 6.214759111404419 secs\n",
      "\ttest depth 1 complete 5.1896772384643555 secs\n",
      "\ttrain depth 2 complete 7.235422134399414ecs\n",
      "\ttest depth 2 complete 5.104295253753662 secs\n",
      "2024-02-23\n",
      "\ttrain depth 1 complete 5.814700126647949 secs\n",
      "\ttest depth 1 complete 4.508286952972412 secs\n",
      "\ttrain depth 2 complete 4.913110971450806ecs\n",
      "\ttest depth 2 complete 4.235564947128296 secs\n",
      "2024-02-24\n",
      "\ttrain depth 1 complete 1.325469970703125 secs\n",
      "\ttest depth 1 complete 1.1970388889312744 secs\n",
      "\ttrain depth 2 complete 1.4579799175262451ecs\n",
      "\ttest depth 2 complete 1.3294141292572021 secs\n",
      "2024-02-25\n",
      "\ttrain depth 1 complete 5.42464804649353 secs\n",
      "\ttest depth 1 complete 5.139661073684692 secs\n",
      "\ttrain depth 2 complete 6.231338977813721ecs\n",
      "\ttest depth 2 complete 5.500961780548096 secs\n",
      "2024-02-26\n",
      "\ttrain depth 1 complete 1.995774269104004 secs\n",
      "\ttest depth 1 complete 1.8699121475219727 secs\n",
      "\ttrain depth 2 complete 1.7954437732696533ecs\n",
      "\ttest depth 2 complete 1.67177414894104 secs\n",
      "2024-02-27\n",
      "\ttrain depth 1 complete 4.994884967803955 secs\n",
      "\ttest depth 1 complete 4.529233932495117 secs\n",
      "\ttrain depth 2 complete 5.56988787651062ecs\n",
      "\ttest depth 2 complete 4.384771108627319 secs\n",
      "2024-02-28\n",
      "\ttrain depth 1 complete 2.9156129360198975 secs\n",
      "\ttest depth 1 complete 2.413480758666992 secs\n",
      "\ttrain depth 2 complete 2.72815203666687ecs\n",
      "\ttest depth 2 complete 2.4135050773620605 secs\n",
      "2024-02-29\n",
      "\ttrain depth 1 complete 3.6734578609466553 secs\n",
      "\ttest depth 1 complete 3.3409740924835205 secs\n",
      "\ttrain depth 2 complete 3.6732337474823ecs\n",
      "\ttest depth 2 complete 3.289849042892456 secs\n",
      "2024-03-01\n",
      "\ttrain depth 1 complete 4.200437784194946 secs\n",
      "\ttest depth 1 complete 3.706533193588257 secs\n",
      "\ttrain depth 2 complete 4.127240896224976ecs\n",
      "\ttest depth 2 complete 3.6768476963043213 secs\n",
      "2024-03-02\n",
      "\ttrain depth 1 complete 2.227869749069214 secs\n",
      "\ttest depth 1 complete 2.0017099380493164 secs\n",
      "\ttrain depth 2 complete 2.2983899116516113ecs\n",
      "\ttest depth 2 complete 2.1400840282440186 secs\n",
      "2024-03-03\n",
      "\ttrain depth 1 complete 3.871422290802002 secs\n",
      "\ttest depth 1 complete 3.333690881729126 secs\n",
      "\ttrain depth 2 complete 3.726284980773926ecs\n",
      "\ttest depth 2 complete 3.3347201347351074 secs\n",
      "2024-03-04\n",
      "\ttrain depth 1 complete 2.8437368869781494 secs\n",
      "\ttest depth 1 complete 2.4839537143707275 secs\n",
      "\ttrain depth 2 complete 2.843264102935791ecs\n",
      "\ttest depth 2 complete 2.50584077835083 secs\n",
      "2024-03-05\n",
      "\ttrain depth 1 complete 4.276132106781006 secs\n",
      "\ttest depth 1 complete 3.9522156715393066 secs\n",
      "\ttrain depth 2 complete 4.4364190101623535ecs\n",
      "\ttest depth 2 complete 3.661288022994995 secs\n",
      "2024-03-06\n",
      "\ttrain depth 1 complete 3.7439351081848145 secs\n",
      "\ttest depth 1 complete 3.371021032333374 secs\n",
      "\ttrain depth 2 complete 3.7049221992492676ecs\n",
      "\ttest depth 2 complete 3.3196496963500977 secs\n",
      "2024-03-07\n",
      "\ttrain depth 1 complete 3.199315071105957 secs\n",
      "\ttest depth 1 complete 2.9100141525268555 secs\n",
      "\ttrain depth 2 complete 3.391144037246704ecs\n",
      "\ttest depth 2 complete 2.911228895187378 secs\n",
      "2024-03-08\n",
      "\ttrain depth 1 complete 3.8186328411102295 secs\n",
      "\ttest depth 1 complete 3.2131848335266113 secs\n",
      "\ttrain depth 2 complete 3.7493209838867188ecs\n",
      "\ttest depth 2 complete 3.26424503326416 secs\n",
      "2024-03-09\n",
      "\ttrain depth 1 complete 3.2231600284576416 secs\n",
      "\ttest depth 1 complete 3.388439178466797 secs\n",
      "\ttrain depth 2 complete 3.507755994796753ecs\n",
      "\ttest depth 2 complete 3.2587060928344727 secs\n",
      "2024-03-10\n",
      "\ttrain depth 1 complete 5.178246259689331 secs\n",
      "\ttest depth 1 complete 3.8891139030456543 secs\n",
      "\ttrain depth 2 complete 4.091814994812012ecs\n",
      "\ttest depth 2 complete 4.05021595954895 secs\n",
      "2024-03-11\n",
      "\ttrain depth 1 complete 2.823021173477173 secs\n",
      "\ttest depth 1 complete 2.502007007598877 secs\n",
      "\ttrain depth 2 complete 2.738614082336426ecs\n",
      "\ttest depth 2 complete 2.344625949859619 secs\n",
      "2024-03-12\n",
      "\ttrain depth 1 complete 3.7434189319610596 secs\n",
      "\ttest depth 1 complete 3.498188018798828 secs\n",
      "\ttrain depth 2 complete 3.8900232315063477ecs\n",
      "\ttest depth 2 complete 3.4785919189453125 secs\n",
      "2024-03-13\n",
      "\ttrain depth 1 complete 4.594528913497925 secs\n",
      "\ttest depth 1 complete 3.8473732471466064 secs\n",
      "\ttrain depth 2 complete 4.7424890995025635ecs\n",
      "\ttest depth 2 complete 4.514031171798706 secs\n",
      "2024-03-14\n",
      "\ttrain depth 1 complete 3.2086639404296875 secs\n",
      "\ttest depth 1 complete 2.693826675415039 secs\n",
      "\ttrain depth 2 complete 3.1439359188079834ecs\n",
      "\ttest depth 2 complete 2.739276170730591 secs\n",
      "2024-03-15\n",
      "\ttrain depth 1 complete 3.4898569583892822 secs\n",
      "\ttest depth 1 complete 2.6855218410491943 secs\n",
      "\ttrain depth 2 complete 2.8208868503570557ecs\n",
      "\ttest depth 2 complete 2.9804601669311523 secs\n",
      "2024-03-16\n",
      "\ttrain depth 1 complete 4.959909915924072 secs\n",
      "\ttest depth 1 complete 3.782705783843994 secs\n",
      "\ttrain depth 2 complete 4.0745460987091064ecs\n",
      "\ttest depth 2 complete 3.724695920944214 secs\n",
      "2024-03-17\n",
      "\ttrain depth 1 complete 3.6967101097106934 secs\n",
      "\ttest depth 1 complete 3.0491483211517334 secs\n",
      "\ttrain depth 2 complete 3.5339150428771973ecs\n",
      "\ttest depth 2 complete 3.095885992050171 secs\n",
      "2024-03-18\n",
      "\ttrain depth 1 complete 3.8903417587280273 secs\n",
      "\ttest depth 1 complete 3.238535165786743 secs\n",
      "\ttrain depth 2 complete 3.6637163162231445ecs\n",
      "\ttest depth 2 complete 3.3592309951782227 secs\n",
      "2024-03-19\n",
      "\ttrain depth 1 complete 2.436323881149292 secs\n",
      "\ttest depth 1 complete 2.2585289478302 secs\n",
      "\ttrain depth 2 complete 2.4315268993377686ecs\n",
      "\ttest depth 2 complete 2.0441012382507324 secs\n",
      "2024-03-20\n",
      "\ttrain depth 1 complete 3.7777841091156006 secs\n",
      "\ttest depth 1 complete 3.2253339290618896 secs\n",
      "\ttrain depth 2 complete 3.793931007385254ecs\n",
      "\ttest depth 2 complete 3.2944319248199463 secs\n",
      "2024-03-21\n",
      "\ttrain depth 1 complete 3.3507492542266846 secs\n",
      "\ttest depth 1 complete 2.804028034210205 secs\n",
      "\ttrain depth 2 complete 3.3309969902038574ecs\n",
      "\ttest depth 2 complete 2.9231112003326416 secs\n",
      "2024-03-22\n",
      "\ttrain depth 1 complete 3.7299959659576416 secs\n",
      "\ttest depth 1 complete 3.2535200119018555 secs\n",
      "\ttrain depth 2 complete 4.055850028991699ecs\n",
      "\ttest depth 2 complete 3.260244131088257 secs\n",
      "2024-03-23\n",
      "\ttrain depth 1 complete 3.683358907699585 secs\n",
      "\ttest depth 1 complete 3.1524760723114014 secs\n",
      "\ttrain depth 2 complete 3.8075830936431885ecs\n",
      "\ttest depth 2 complete 3.1247260570526123 secs\n",
      "2024-03-24\n",
      "\ttrain depth 1 complete 2.9267778396606445 secs\n",
      "\ttest depth 1 complete 2.5006790161132812 secs\n",
      "\ttrain depth 2 complete 2.964146852493286ecs\n",
      "\ttest depth 2 complete 2.573870897293091 secs\n",
      "2024-03-25\n",
      "\ttrain depth 1 complete 5.236500024795532 secs\n",
      "\ttest depth 1 complete 4.55179500579834 secs\n",
      "\ttrain depth 2 complete 5.231388092041016ecs\n",
      "\ttest depth 2 complete 4.480917930603027 secs\n",
      "2024-03-26\n",
      "\ttrain depth 1 complete 1.9275121688842773 secs\n",
      "\ttest depth 1 complete 1.6585369110107422 secs\n",
      "\ttrain depth 2 complete 1.8986899852752686ecs\n",
      "\ttest depth 2 complete 1.6558899879455566 secs\n",
      "2024-03-27\n",
      "\ttrain depth 1 complete 5.757166862487793 secs\n",
      "\ttest depth 1 complete 5.012354135513306 secs\n",
      "\ttrain depth 2 complete 5.693921089172363ecs\n",
      "\ttest depth 2 complete 5.248951196670532 secs\n",
      "2024-03-28\n",
      "\ttrain depth 1 complete 0.9978487491607666 secs\n",
      "\ttest depth 1 complete 0.8139247894287109 secs\n",
      "\ttrain depth 2 complete 0.953045129776001ecs\n",
      "\ttest depth 2 complete 0.8124651908874512 secs\n",
      "2024-03-29\n",
      "\ttrain depth 1 complete 5.605679035186768 secs\n",
      "\ttest depth 1 complete 4.722848892211914 secs\n",
      "\ttrain depth 2 complete 5.542099237442017ecs\n",
      "\ttest depth 2 complete 4.98968505859375 secs\n",
      "2024-03-30\n",
      "\ttrain depth 1 complete 1.4165301322937012 secs\n",
      "\ttest depth 1 complete 1.1938719749450684 secs\n",
      "\ttrain depth 2 complete 1.453923225402832ecs\n",
      "\ttest depth 2 complete 1.2549519538879395 secs\n",
      "2024-03-31\n",
      "\ttrain depth 1 complete 4.947272062301636 secs\n",
      "\ttest depth 1 complete 4.203358173370361 secs\n",
      "\ttrain depth 2 complete 4.847851991653442ecs\n",
      "\ttest depth 2 complete 4.188374042510986 secs\n",
      "2024-04-01\n",
      "\ttrain depth 1 complete 2.828502893447876 secs\n",
      "\ttest depth 1 complete 2.392667055130005 secs\n",
      "\ttrain depth 2 complete 3.003575086593628ecs\n",
      "\ttest depth 2 complete 2.467561960220337 secs\n",
      "2024-04-02\n",
      "\ttrain depth 1 complete 4.271723985671997 secs\n",
      "\ttest depth 1 complete 3.7601120471954346 secs\n",
      "\ttrain depth 2 complete 4.349420070648193ecs\n",
      "\ttest depth 2 complete 3.615891933441162 secs\n",
      "2024-04-03\n",
      "\ttrain depth 1 complete 4.170748949050903 secs\n",
      "\ttest depth 1 complete 3.6638457775115967 secs\n",
      "\ttrain depth 2 complete 4.467390060424805ecs\n"
     ]
    },
    {
     "name": "stdout",
     "output_type": "stream",
     "text": [
      "\ttest depth 2 complete 3.8535549640655518 secs\n",
      "2024-04-04\n",
      "\ttrain depth 1 complete 2.497176170349121 secs\n",
      "\ttest depth 1 complete 2.061638832092285 secs\n",
      "\ttrain depth 2 complete 2.670966863632202ecs\n",
      "\ttest depth 2 complete 2.1166319847106934 secs\n",
      "2024-04-05\n",
      "\ttrain depth 1 complete 5.816375017166138 secs\n",
      "\ttest depth 1 complete 4.8843419551849365 secs\n",
      "\ttrain depth 2 complete 5.955718040466309ecs\n",
      "\ttest depth 2 complete 4.97369122505188 secs\n",
      "2024-04-06\n",
      "\ttrain depth 1 complete 1.9816272258758545 secs\n",
      "\ttest depth 1 complete 1.6580860614776611 secs\n",
      "\ttrain depth 2 complete 1.9277451038360596ecs\n",
      "\ttest depth 2 complete 1.6565918922424316 secs\n",
      "2024-04-07\n",
      "\ttrain depth 1 complete 6.424684047698975 secs\n",
      "\ttest depth 1 complete 5.364573955535889 secs\n",
      "\ttrain depth 2 complete 6.456444978713989ecs\n",
      "\ttest depth 2 complete 5.652644872665405 secs\n",
      "2024-04-09\n",
      "\ttrain depth 1 complete 6.9808509349823 secs\n",
      "\ttest depth 1 complete 5.884083032608032 secs\n",
      "\ttrain depth 2 complete 6.903081178665161ecs\n",
      "\ttest depth 2 complete 5.8852880001068115 secs\n",
      "2024-04-10\n",
      "\ttrain depth 1 complete 3.9398138523101807 secs\n",
      "\ttest depth 1 complete 3.2980120182037354 secs\n",
      "\ttrain depth 2 complete 4.023936986923218ecs\n",
      "\ttest depth 2 complete 3.2892391681671143 secs\n",
      "2024-04-11\n",
      "\ttrain depth 1 complete 2.5446579456329346 secs\n",
      "\ttest depth 1 complete 2.1483049392700195 secs\n",
      "\ttrain depth 2 complete 2.456915855407715ecs\n",
      "\ttest depth 2 complete 1.9627740383148193 secs\n",
      "2024-04-12\n",
      "\ttrain depth 1 complete 6.952455997467041 secs\n",
      "\ttest depth 1 complete 5.829165697097778 secs\n",
      "\ttrain depth 2 complete 7.001245975494385ecs\n",
      "\ttest depth 2 complete 5.853131055831909 secs\n",
      "2024-04-14\n",
      "\ttrain depth 1 complete 6.998173952102661 secs\n",
      "\ttest depth 1 complete 6.291080951690674 secs\n",
      "\ttrain depth 2 complete 7.32540225982666ecs\n",
      "\ttest depth 2 complete 5.850489854812622 secs\n"
     ]
    }
   ],
   "source": [
    "datesPostAllStarGame = np.unique([NBAdf['GAME DATE'] > datetime.date(2024,2,19)]['GAME DATE']).tolist()\n",
    "depth1TestDetails = {}\n",
    "depth2TestDetails = {}\n",
    "for date in datesPostAllStarGame:\n",
    "    start_time = time.time()\n",
    "    depth1TestDetails[date] = {}\n",
    "    depth2TestDetails[date] = {}\n",
    "    models = train(NBAdf,date,maxDepth=1)\n",
    "    print(date)\n",
    "    print(\"\\ttrain depth 1 complete %s secs\" % (time.time() - start_time))\n",
    "    start_time = time.time()\n",
    "    test(NBAdf,date,models,depth1TestDetails)\n",
    "    print(\"\\ttest depth 1 complete %s secs\" % (time.time() - start_time))\n",
    "    start_time = time.time()\n",
    "    models = train(NBAdf,date,maxDepth=2)\n",
    "    print(\"\\ttrain depth 2 complete % secs\" % (time.time() - start_time))\n",
    "    start_time = time.time()\n",
    "    test(NBAdf,date,models,depth2TestDetails)\n",
    "    print(\"\\ttest depth 2 complete %s secs\" % (time.time() - start_time))\n",
    "    start_time = time.time()"
   ]
  },
  {
   "cell_type": "code",
   "execution_count": 10,
   "id": "617c4ea2",
   "metadata": {},
   "outputs": [],
   "source": [
    "modelTestDetailsDict = {}\n",
    "modelTestDetailsDict['depth1'] = depth1TestDetails\n",
    "modelTestDetailsDict['depth2'] = depth2TestDetails\n",
    "for key in modelTestDetailsDict.keys(): \n",
    "    modelTestDetailsDict[key]['testDetailsDF'] = pd.DataFrame()\n",
    "    \n",
    "for key in modelTestDetailsDict.keys():\n",
    "    testDetailsDF = pd.DataFrame()\n",
    "    for date in datesPostAllStarGame:\n",
    "        depthResult = modelTestDetailsDict[key]\n",
    "        testDetailsDF = pd.concat([testDetailsDF,\n",
    "                                   pd.DataFrame(depthResult[date]).T.reset_index(drop=False).rename(columns=({'index':'TEAM','DATE':'GAME DATE'}))]\n",
    "                                  ,axis=0)\n",
    "    modelTestDetailsDict[key]['testDetailsDF'] = testDetailsDF"
   ]
  },
  {
   "cell_type": "code",
   "execution_count": 11,
   "id": "dcf04f6d",
   "metadata": {},
   "outputs": [
    {
     "data": {
      "text/html": [
       "<div>\n",
       "<style scoped>\n",
       "    .dataframe tbody tr th:only-of-type {\n",
       "        vertical-align: middle;\n",
       "    }\n",
       "\n",
       "    .dataframe tbody tr th {\n",
       "        vertical-align: top;\n",
       "    }\n",
       "\n",
       "    .dataframe thead th {\n",
       "        text-align: right;\n",
       "    }\n",
       "</style>\n",
       "<table border=\"1\" class=\"dataframe\">\n",
       "  <thead>\n",
       "    <tr style=\"text-align: right;\">\n",
       "      <th></th>\n",
       "      <th>TEAM</th>\n",
       "      <th>GAME DATE</th>\n",
       "      <th>GAMEID</th>\n",
       "      <th>TRAIN SIZE</th>\n",
       "      <th>SPLIT DETAILS</th>\n",
       "      <th>X_test</th>\n",
       "      <th>FINAL NODE DETAILS</th>\n",
       "      <th>PROBABILITY ESTIMATE</th>\n",
       "      <th>MODEL PREDICTS</th>\n",
       "      <th>RESULT</th>\n",
       "      <th>SPREAD</th>\n",
       "    </tr>\n",
       "  </thead>\n",
       "  <tbody>\n",
       "    <tr>\n",
       "      <th>0</th>\n",
       "      <td>ORL</td>\n",
       "      <td>2024-02-22</td>\n",
       "      <td>22300792</td>\n",
       "      <td>50</td>\n",
       "      <td>{0: ('STLL2MA', 6.25)}</td>\n",
       "      <td>[(STLL2MA, 6.5, F)]</td>\n",
       "      <td>(2, 12.0, 26.0)</td>\n",
       "      <td>0.684211</td>\n",
       "      <td>1</td>\n",
       "      <td>1</td>\n",
       "      <td>5.0</td>\n",
       "    </tr>\n",
       "    <tr>\n",
       "      <th>1</th>\n",
       "      <td>CLE</td>\n",
       "      <td>2024-02-22</td>\n",
       "      <td>22300792</td>\n",
       "      <td>48</td>\n",
       "      <td>{0: ('PFL2MA', 17.75)}</td>\n",
       "      <td>[(PFL2MA, 17.5, T)]</td>\n",
       "      <td>(1, 0.0, 19.0)</td>\n",
       "      <td>1.0</td>\n",
       "      <td>1</td>\n",
       "      <td>0</td>\n",
       "      <td>-5.0</td>\n",
       "    </tr>\n",
       "  </tbody>\n",
       "</table>\n",
       "</div>"
      ],
      "text/plain": [
       "  TEAM   GAME DATE    GAMEID TRAIN SIZE           SPLIT DETAILS               X_test FINAL NODE DETAILS PROBABILITY ESTIMATE MODEL PREDICTS RESULT  \\\n",
       "0  ORL  2024-02-22  22300792         50  {0: ('STLL2MA', 6.25)}  [(STLL2MA, 6.5, F)]    (2, 12.0, 26.0)             0.684211              1      1   \n",
       "1  CLE  2024-02-22  22300792         48  {0: ('PFL2MA', 17.75)}  [(PFL2MA, 17.5, T)]     (1, 0.0, 19.0)                  1.0              1      0   \n",
       "\n",
       "  SPREAD  \n",
       "0    5.0  \n",
       "1   -5.0  "
      ]
     },
     "execution_count": 11,
     "metadata": {},
     "output_type": "execute_result"
    }
   ],
   "source": [
    "modelTestDetailsDict['depth1']['testDetailsDF'].iloc[0:2]"
   ]
  },
  {
   "cell_type": "code",
   "execution_count": 12,
   "id": "f7d625f0",
   "metadata": {},
   "outputs": [],
   "source": [
    "def getMatchResults(testDetailsDF):\n",
    "    matchResultsDict = {}\n",
    "    matchResultsDF = pd.DataFrame()\n",
    "    for date in datesPostAllStarGame:\n",
    "        #date = datesPostAllStarGame[0]\n",
    "        gamesTodayDF = testDetailsDF[testDetailsDF['GAME DATE'] == date]\n",
    "        matchResultsDict[date] = {'MATCH UP':[],'GAMEID':[],'MODEL PREDICTS':[],'ACTUAL WINNER':[],'MODEL SCORE':[]}\n",
    "        for i in range (0,len(gamesTodayDF),2):\n",
    "            matchResultsDict[date]['GAME DATE'] = gamesTodayDF.iloc[i]['GAME DATE']\n",
    "            matchResultsDict[date]['MATCH UP'].append(gamesTodayDF.iloc[i]['TEAM']+' @ '+gamesTodayDF.iloc[i+1]['TEAM'])\n",
    "            matchResultsDict[date]['GAMEID'].append(gamesTodayDF.iloc[i]['GAMEID'])\n",
    "            matchResultsDict[date]['MODEL PREDICTS'].append(getModelMatchPredicts(gamesTodayDF.iloc[i],gamesTodayDF.iloc[i+1]))\n",
    "            matchResultsDict[date]['ACTUAL WINNER'].append(getActualWinner(gamesTodayDF.iloc[i],gamesTodayDF.iloc[i+1]))\n",
    "            matchResultsDict[date]['MODEL SCORE'].append(' ')\n",
    "        matchResultsDict[date]['GAME DATE'] = (gamesTodayDF.iloc[i]['GAME DATE'])\n",
    "        matchResultsDict[date]['MATCH UP'].append(' ')\n",
    "        matchResultsDict[date]['GAMEID'].append(' ')\n",
    "        matchResultsDict[date]['MODEL PREDICTS'].append(' ')\n",
    "        matchResultsDict[date]['ACTUAL WINNER'].append(' ')\n",
    "        correctPredictions = 0\n",
    "        for i in range(len(matchResultsDict[date]['MODEL PREDICTS']) -1 ):\n",
    "            if matchResultsDict[date]['MODEL PREDICTS'][i][1] == '✅':\n",
    "                correctPredictions = correctPredictions + 1\n",
    "        matchResultsDict[date]['MODEL SCORE'].append(correctPredictions / (len(matchResultsDict[date]['MODEL PREDICTS'])-1))\n",
    "        matchResultsDF = pd.concat([matchResultsDF,\n",
    "                                    pd.DataFrame(matchResultsDict[date])],axis=0)\n",
    "    return matchResultsDF\n",
    "def getModelMatchPredicts(awayTeam,homeTeam):\n",
    "    if awayTeam['PROBABILITY ESTIMATE'] == homeTeam['PROBABILITY ESTIMATE'] : return 'EQUAL P1s'\n",
    "    if awayTeam['PROBABILITY ESTIMATE'] > homeTeam['PROBABILITY ESTIMATE'] and awayTeam['RESULT'] == 1:\n",
    "        return awayTeam['TEAM'],'✅'\n",
    "    if awayTeam['PROBABILITY ESTIMATE'] > homeTeam['PROBABILITY ESTIMATE'] and awayTeam['RESULT'] == 0:\n",
    "        return awayTeam['TEAM'],'❌'\n",
    "    if awayTeam['PROBABILITY ESTIMATE'] < homeTeam['PROBABILITY ESTIMATE'] and homeTeam['RESULT'] == 1:\n",
    "        return homeTeam['TEAM'],'✅'\n",
    "    if awayTeam['PROBABILITY ESTIMATE'] < homeTeam['PROBABILITY ESTIMATE'] and homeTeam['RESULT'] == 0:\n",
    "        return homeTeam['TEAM'],'❌'\n",
    "def getActualWinner(awayTeam,homeTeam):\n",
    "    if awayTeam['RESULT'] == 1: return awayTeam['TEAM'],awayTeam['SPREAD']\n",
    "    else: return homeTeam['TEAM'],homeTeam['SPREAD']"
   ]
  },
  {
   "cell_type": "code",
   "execution_count": 13,
   "id": "d956f8cf",
   "metadata": {},
   "outputs": [],
   "source": [
    "for key in modelTestDetailsDict.keys():\n",
    "    modelTestDetailsDict[key]['matchResultsDF'] = pd.DataFrame()\n",
    "for key in modelTestDetailsDict.keys():\n",
    "    matchResultsDF = pd.DataFrame()\n",
    "    matchResultsDF = getMatchResults(modelTestDetailsDict[key]['testDetailsDF'])\n",
    "    modelTestDetailsDict[key]['matchResultsDF'] = matchResultsDF"
   ]
  },
  {
   "cell_type": "code",
   "execution_count": 14,
   "id": "ebf30284",
   "metadata": {},
   "outputs": [
    {
     "data": {
      "text/html": [
       "<div>\n",
       "<style scoped>\n",
       "    .dataframe tbody tr th:only-of-type {\n",
       "        vertical-align: middle;\n",
       "    }\n",
       "\n",
       "    .dataframe tbody tr th {\n",
       "        vertical-align: top;\n",
       "    }\n",
       "\n",
       "    .dataframe thead th {\n",
       "        text-align: right;\n",
       "    }\n",
       "</style>\n",
       "<table border=\"1\" class=\"dataframe\">\n",
       "  <thead>\n",
       "    <tr style=\"text-align: right;\">\n",
       "      <th></th>\n",
       "      <th>MATCH UP</th>\n",
       "      <th>GAMEID</th>\n",
       "      <th>MODEL PREDICTS</th>\n",
       "      <th>ACTUAL WINNER</th>\n",
       "      <th>MODEL SCORE</th>\n",
       "      <th>GAME DATE</th>\n",
       "    </tr>\n",
       "  </thead>\n",
       "  <tbody>\n",
       "    <tr>\n",
       "      <th>0</th>\n",
       "      <td>ORL @ CLE</td>\n",
       "      <td>22300792</td>\n",
       "      <td>(CLE, ❌)</td>\n",
       "      <td>(ORL, 5.0)</td>\n",
       "      <td></td>\n",
       "      <td>2024-02-22</td>\n",
       "    </tr>\n",
       "  </tbody>\n",
       "</table>\n",
       "</div>"
      ],
      "text/plain": [
       "    MATCH UP    GAMEID MODEL PREDICTS ACTUAL WINNER MODEL SCORE   GAME DATE\n",
       "0  ORL @ CLE  22300792       (CLE, ❌)    (ORL, 5.0)              2024-02-22"
      ]
     },
     "execution_count": 14,
     "metadata": {},
     "output_type": "execute_result"
    }
   ],
   "source": [
    "modelTestDetailsDict['depth1']['matchResultsDF'].iloc[0:1]"
   ]
  },
  {
   "cell_type": "code",
   "execution_count": 15,
   "id": "d596816d",
   "metadata": {},
   "outputs": [],
   "source": [
    "def addVegasPredictions(matchResultsDF):\n",
    "    seasonPredictionsDF = pd.DataFrame()\n",
    "    for date in np.unique(matchResultsDF['GAME DATE']):\n",
    "        #date = datesPostAllStarGame[0]\n",
    "        predictionsTodayDF = pd.concat\n",
    "        vegasPredictionsDF = pd.DataFrame()\n",
    "        vegasScoresDF = pd.DataFrame()\n",
    "        vegasPredictions = []\n",
    "        vegasScores = []\n",
    "        vegasScore = 0\n",
    "        matchesTodayDF = matchResultsDF[matchResultsDF['GAME DATE'] == date]\n",
    "        for i in range(len(matchesTodayDF)-1):\n",
    "            gameID = matchesTodayDF.iloc[i]['GAMEID']\n",
    "            teamVegasPredicts = NBAdf[NBAdf['GAMEID'] == gameID].sort_values(by='SPREAD',ascending=True).head(1)['TEAM'].values[0]\n",
    "            if teamVegasPredicts == matchesTodayDF['MODEL PREDICTS'][i][0]: \n",
    "                vegasPredictions.append((teamVegasPredicts,'✅'))\n",
    "                vegasScores.append(' ')\n",
    "                vegasScore = vegasScore + 1\n",
    "            else: \n",
    "                vegasPredictions.append((teamVegasPredicts,'❌'))\n",
    "                vegasScores.append(' ')\n",
    "        vegasPredictions.append(' ')\n",
    "        vegasScores.append(vegasScore/len(matchesTodayDF))\n",
    "        vegasPredictionsDF['VEGAS'] = vegasPredictions\n",
    "        vegasScoresDF['VEGAS SCORE'] = vegasScores\n",
    "        predictionsTodayDF = pd.concat([matchesTodayDF,\n",
    "                                        vegasPredictionsDF,\n",
    "                                        vegasScoresDF],axis=1)\n",
    "        seasonPredictionsDF = pd.concat([seasonPredictionsDF,predictionsTodayDF],axis=0)\n",
    "        seasonPredictionsDF.insert(0,'GAME DATE',seasonPredictionsDF.pop('GAME DATE'))\n",
    "    return seasonPredictionsDF"
   ]
  },
  {
   "cell_type": "code",
   "execution_count": 16,
   "id": "cfa442df",
   "metadata": {},
   "outputs": [],
   "source": [
    "def getScoreDetails(df):\n",
    "    date = []\n",
    "    modelScore = []\n",
    "    vegasScore = []\n",
    "    for i in range(len(df)):\n",
    "        if df.iloc[i][\"MATCH UP\"] == \" \":\n",
    "            date.append(df.iloc[i][\"GAME DATE\"])\n",
    "            modelScore.append(df.iloc[i][\"MODEL SCORE\"])\n",
    "            vegasScore.append(df.iloc[i][\"VEGAS SCORE\"])\n",
    "    return pd.concat([pd.DataFrame(date,columns=[\"GAME DATE\"]),pd.DataFrame(modelScore,columns=['MODEL SCORE']),\n",
    "                      pd.DataFrame(vegasScore,columns=[\"VEGAS SCORE\"]),],axis=1)\n",
    "def plotScores(df):\n",
    "    date = []\n",
    "    modelScore = []\n",
    "    vegasScore = []\n",
    "    for i in range(len(df)):\n",
    "        if df.iloc[i][\"MATCH UP\"] == \" \":\n",
    "            date.append(df.iloc[i][\"GAME DATE\"])\n",
    "            modelScore.append(df.iloc[i][\"MODEL SCORE\"])\n",
    "            vegasScore.append(df.iloc[i][\"VEGAS SCORE\"])\n",
    "    plt.figure(figsize=(20,5))\n",
    "    plt.plot(date,modelScore,marker='o',c='purple');\n",
    "    plt.plot(date,vegasScore,marker='o',c='green');"
   ]
  },
  {
   "cell_type": "code",
   "execution_count": 17,
   "id": "133e9ecd",
   "metadata": {},
   "outputs": [],
   "source": [
    "for key in modelTestDetailsDict.keys():\n",
    "    modelTestDetailsDict[key]['seasonPredictionsDF'] = pd.DataFrame()\n",
    "for key in modelTestDetailsDict.keys():\n",
    "    seasonPredictionsDF = pd.DataFrame()\n",
    "    seasonPredictionsDF = addVegasPredictions(modelTestDetailsDict[key]['matchResultsDF'])\n",
    "    modelTestDetailsDict[key]['seasonPredictionsDF'] = seasonPredictionsDF"
   ]
  },
  {
   "cell_type": "code",
   "execution_count": 18,
   "id": "1298a125",
   "metadata": {},
   "outputs": [],
   "source": [
    "depth1DescribeDF = pd.concat([getScoreDetails(modelTestDetailsDict['depth1']['seasonPredictionsDF'])['MODEL SCORE'].describe(),\n",
    "                              getScoreDetails(modelTestDetailsDict['depth1']['seasonPredictionsDF'])['VEGAS SCORE'].describe()],axis=1)\n",
    "depth1DescribeDF = depth1DescribeDF.rename(columns={'MODEL SCORE':'D1 MODEL SCORE','VEGAS SCORE':'D1 VEGAS SCORE'});"
   ]
  },
  {
   "cell_type": "code",
   "execution_count": 19,
   "id": "0096cfca",
   "metadata": {},
   "outputs": [],
   "source": [
    "depth2DescribeDF = pd.concat([getScoreDetails(modelTestDetailsDict['depth2']['seasonPredictionsDF'])['MODEL SCORE'].describe(),\n",
    "                              getScoreDetails(modelTestDetailsDict['depth2']['seasonPredictionsDF'])['VEGAS SCORE'].describe()],axis=1)\n",
    "depth2DescribeDF = depth2DescribeDF.rename(columns={'MODEL SCORE':'D2 MODEL SCORE','VEGAS SCORE':'D2 VEGAS SCORE'});"
   ]
  },
  {
   "cell_type": "code",
   "execution_count": 20,
   "id": "62e54294",
   "metadata": {},
   "outputs": [
    {
     "data": {
      "text/html": [
       "<div>\n",
       "<style scoped>\n",
       "    .dataframe tbody tr th:only-of-type {\n",
       "        vertical-align: middle;\n",
       "    }\n",
       "\n",
       "    .dataframe tbody tr th {\n",
       "        vertical-align: top;\n",
       "    }\n",
       "\n",
       "    .dataframe thead th {\n",
       "        text-align: right;\n",
       "    }\n",
       "</style>\n",
       "<table border=\"1\" class=\"dataframe\">\n",
       "  <thead>\n",
       "    <tr style=\"text-align: right;\">\n",
       "      <th></th>\n",
       "      <th>D1 MODEL SCORE</th>\n",
       "      <th>D1 VEGAS SCORE</th>\n",
       "      <th>D2 MODEL SCORE</th>\n",
       "      <th>D2 VEGAS SCORE</th>\n",
       "    </tr>\n",
       "  </thead>\n",
       "  <tbody>\n",
       "    <tr>\n",
       "      <th>count</th>\n",
       "      <td>51.000000</td>\n",
       "      <td>51.000000</td>\n",
       "      <td>51.000000</td>\n",
       "      <td>51.000000</td>\n",
       "    </tr>\n",
       "    <tr>\n",
       "      <th>mean</th>\n",
       "      <td>0.592976</td>\n",
       "      <td>0.635428</td>\n",
       "      <td>0.583188</td>\n",
       "      <td>0.579865</td>\n",
       "    </tr>\n",
       "    <tr>\n",
       "      <th>std</th>\n",
       "      <td>0.205013</td>\n",
       "      <td>0.145115</td>\n",
       "      <td>0.232238</td>\n",
       "      <td>0.164093</td>\n",
       "    </tr>\n",
       "    <tr>\n",
       "      <th>min</th>\n",
       "      <td>0.000000</td>\n",
       "      <td>0.333333</td>\n",
       "      <td>0.000000</td>\n",
       "      <td>0.285714</td>\n",
       "    </tr>\n",
       "    <tr>\n",
       "      <th>25%</th>\n",
       "      <td>0.500000</td>\n",
       "      <td>0.516667</td>\n",
       "      <td>0.444444</td>\n",
       "      <td>0.452991</td>\n",
       "    </tr>\n",
       "    <tr>\n",
       "      <th>50%</th>\n",
       "      <td>0.625000</td>\n",
       "      <td>0.666667</td>\n",
       "      <td>0.636364</td>\n",
       "      <td>0.571429</td>\n",
       "    </tr>\n",
       "    <tr>\n",
       "      <th>75%</th>\n",
       "      <td>0.738636</td>\n",
       "      <td>0.750000</td>\n",
       "      <td>0.750000</td>\n",
       "      <td>0.720779</td>\n",
       "    </tr>\n",
       "    <tr>\n",
       "      <th>max</th>\n",
       "      <td>1.000000</td>\n",
       "      <td>0.888889</td>\n",
       "      <td>1.000000</td>\n",
       "      <td>0.875000</td>\n",
       "    </tr>\n",
       "  </tbody>\n",
       "</table>\n",
       "</div>"
      ],
      "text/plain": [
       "       D1 MODEL SCORE  D1 VEGAS SCORE  D2 MODEL SCORE  D2 VEGAS SCORE\n",
       "count       51.000000       51.000000       51.000000       51.000000\n",
       "mean         0.592976        0.635428        0.583188        0.579865\n",
       "std          0.205013        0.145115        0.232238        0.164093\n",
       "min          0.000000        0.333333        0.000000        0.285714\n",
       "25%          0.500000        0.516667        0.444444        0.452991\n",
       "50%          0.625000        0.666667        0.636364        0.571429\n",
       "75%          0.738636        0.750000        0.750000        0.720779\n",
       "max          1.000000        0.888889        1.000000        0.875000"
      ]
     },
     "execution_count": 20,
     "metadata": {},
     "output_type": "execute_result"
    }
   ],
   "source": [
    "describeModelsDF = pd.concat([depth1DescribeDF,depth2DescribeDF],axis=1)\n",
    "describeModelsDF"
   ]
  },
  {
   "cell_type": "code",
   "execution_count": 21,
   "id": "2f1f2bf2",
   "metadata": {},
   "outputs": [
    {
     "data": {
      "image/png": "[encoded data removed]",
      "text/plain": [
       "<Figure size 720x360 with 1 Axes>"
      ]
     },
     "metadata": {
      "needs_background": "light"
     },
     "output_type": "display_data"
    }
   ],
   "source": [
    "plt.figure(figsize=(10,5))\n",
    "plt.plot(describeModelsDF.loc['mean']);\n",
    "for i in range(len(describeModelsDF.columns)):\n",
    "    plt.annotate(str(round(describeModelsDF.loc['mean'][i],3)),\n",
    "                 xy=(describeModelsDF.columns[i],describeModelsDF.loc['mean'][i]))"
   ]
  },
  {
   "cell_type": "code",
   "execution_count": 22,
   "id": "fdad036e",
   "metadata": {},
   "outputs": [
    {
     "data": {
      "image/png": "[encoded data removed]",
      "text/plain": [
       "<Figure size 720x360 with 1 Axes>"
      ]
     },
     "metadata": {
      "needs_background": "light"
     },
     "output_type": "display_data"
    }
   ],
   "source": [
    "plt.figure(figsize=(10,5))\n",
    "plt.plot(describeModelsDF.loc['50%']);\n",
    "for i in range(len(describeModelsDF.columns)):\n",
    "    plt.annotate(str(round(describeModelsDF.loc['50%'][i],3)),\n",
    "                 xy=(describeModelsDF.columns[i],describeModelsDF.loc['50%'][i]))"
   ]
  },
  {
   "cell_type": "code",
   "execution_count": 23,
   "id": "7f3adb90",
   "metadata": {},
   "outputs": [],
   "source": [
    "def getModelSeasonScore(df):\n",
    "    seasonCorrectPredictionsCount = 0\n",
    "    seasonIncorrectPredictionsCount = 0\n",
    "    for i in range(len(df.reset_index(drop=True))):\n",
    "        if df.iloc[i]['MODEL PREDICTS'] != ' ':\n",
    "            if df.iloc[i]['MODEL PREDICTS'][1] == '❌':\n",
    "                seasonIncorrectPredictionsCount = seasonIncorrectPredictionsCount + 1\n",
    "            if df.iloc[i]['MODEL PREDICTS'][1] == '✅':\n",
    "                seasonCorrectPredictionsCount = seasonCorrectPredictionsCount + 1\n",
    "    percentCorrect = seasonCorrectPredictionsCount/(seasonCorrectPredictionsCount+seasonIncorrectPredictionsCount)\n",
    "    return percentCorrect\n",
    "def getVegasSeasonScore(df):\n",
    "    seasonCorrectPredictionsCount = 0\n",
    "    seasonIncorrectPredictionsCount = 0\n",
    "    for i in range(len(df.reset_index(drop=True))):\n",
    "        if df.iloc[i]['VEGAS'] != ' ':\n",
    "            if df.iloc[i]['VEGAS'][1] == '❌':\n",
    "                seasonIncorrectPredictionsCount = seasonIncorrectPredictionsCount + 1\n",
    "            if df.iloc[i]['VEGAS'][1] == '✅':\n",
    "                seasonCorrectPredictionsCount = seasonCorrectPredictionsCount + 1\n",
    "    percentCorrect = seasonCorrectPredictionsCount/(seasonCorrectPredictionsCount+seasonIncorrectPredictionsCount)\n",
    "    return percentCorrect"
   ]
  },
  {
   "cell_type": "code",
   "execution_count": 24,
   "id": "5772b746",
   "metadata": {},
   "outputs": [],
   "source": [
    "#modelTestDetailsDict['depth1'].keys()"
   ]
  },
  {
   "cell_type": "code",
   "execution_count": 25,
   "id": "c03d08dd",
   "metadata": {},
   "outputs": [],
   "source": [
    "scoreResultsDict = {}\n",
    "for key in modelTestDetailsDict.keys():\n",
    "    scoreResultsDict[key] = {'MODEL SCORE':float,'VEGAS SCORE':float}\n",
    "for key in modelTestDetailsDict.keys():\n",
    "    scoreResultsDict[key]['MODEL SCORE'] = getModelSeasonScore(modelTestDetailsDict[key]['seasonPredictionsDF'])\n",
    "    scoreResultsDict[key]['VEGAS SCORE'] = getVegasSeasonScore(modelTestDetailsDict[key]['seasonPredictionsDF'])"
   ]
  },
  {
   "cell_type": "code",
   "execution_count": 26,
   "id": "48b1dc04",
   "metadata": {},
   "outputs": [
    {
     "data": {
      "text/plain": [
       "{'MODEL SCORE': 0.6136919315403423, 'VEGAS SCORE': 0.7292682926829268}"
      ]
     },
     "execution_count": 26,
     "metadata": {},
     "output_type": "execute_result"
    }
   ],
   "source": [
    "scoreResultsDict['depth1']"
   ]
  },
  {
   "cell_type": "code",
   "execution_count": 27,
   "id": "5aafeef1",
   "metadata": {},
   "outputs": [],
   "source": [
    "scoreResultsDF = pd.DataFrame(scoreResultsDict)"
   ]
  },
  {
   "cell_type": "code",
   "execution_count": 28,
   "id": "4e96ac0c",
   "metadata": {},
   "outputs": [
    {
     "data": {
      "image/png": "[encoded data removed]",
      "text/plain": [
       "<Figure size 720x360 with 1 Axes>"
      ]
     },
     "metadata": {
      "needs_background": "light"
     },
     "output_type": "display_data"
    }
   ],
   "source": [
    "plt.figure(figsize=(10,5))\n",
    "plt.plot(scoreResultsDF.loc['MODEL SCORE']);\n",
    "plt.plot(scoreResultsDF.loc['VEGAS SCORE']);\n",
    "for i in range(len(scoreResultsDF.columns)):\n",
    "    plt.annotate(str(round(scoreResultsDF.loc['MODEL SCORE'][i],3)),\n",
    "                 xy=(scoreResultsDF.columns[i],scoreResultsDF.loc['MODEL SCORE'][i]))\n",
    "    plt.annotate(str(round(scoreResultsDF.loc['VEGAS SCORE'][i],3)),\n",
    "                 xy=(scoreResultsDF.columns[i],scoreResultsDF.loc['VEGAS SCORE'][i]))"
   ]
  },
  {
   "cell_type": "code",
   "execution_count": 29,
   "id": "d6ca9156",
   "metadata": {},
   "outputs": [
    {
     "data": {
      "text/html": [
       "<style  type=\"text/css\" >\n",
       "#T_17cdd_row0_col0,#T_17cdd_row0_col1{\n",
       "            background-color:  pink;\n",
       "        }</style><table id=\"T_17cdd_\" ><thead>    <tr>        <th class=\"blank level0\" ></th>        <th class=\"col_heading level0 col0\" >MODEL SCORE</th>        <th class=\"col_heading level0 col1\" >VEGAS SCORE</th>    </tr></thead><tbody>\n",
       "                <tr>\n",
       "                        <th id=\"T_17cdd_level0_row0\" class=\"row_heading level0 row0\" >depth1</th>\n",
       "                        <td id=\"T_17cdd_row0_col0\" class=\"data row0 col0\" >0.613692</td>\n",
       "                        <td id=\"T_17cdd_row0_col1\" class=\"data row0 col1\" >0.729268</td>\n",
       "            </tr>\n",
       "            <tr>\n",
       "                        <th id=\"T_17cdd_level0_row1\" class=\"row_heading level0 row1\" >depth2</th>\n",
       "                        <td id=\"T_17cdd_row1_col0\" class=\"data row1 col0\" >0.609877</td>\n",
       "                        <td id=\"T_17cdd_row1_col1\" class=\"data row1 col1\" >0.658537</td>\n",
       "            </tr>\n",
       "    </tbody></table>"
      ],
      "text/plain": [
       "<pandas.io.formats.style.Styler at 0x7f9ad5bfb430>"
      ]
     },
     "execution_count": 29,
     "metadata": {},
     "output_type": "execute_result"
    }
   ],
   "source": [
    "scoreResultsDF.T.style.highlight_max(color='pink')"
   ]
  },
  {
   "cell_type": "code",
   "execution_count": 30,
   "id": "570fe20d",
   "metadata": {},
   "outputs": [],
   "source": [
    "def plotTrees(NBAdf,awayTeam,homeTeam,date,maxDepth):\n",
    "    NBAtrain = NBAdf[NBAdf['GAME DATE'] < date].dropna()\n",
    "    models = []\n",
    "    featureNames = []\n",
    "    matchup = [awayTeam,homeTeam]\n",
    "    for tuple_ in matchup:\n",
    "        team = tuple_[0]\n",
    "        features = []\n",
    "        for featureIter in range(1,len(tuple_)):\n",
    "            features.append(tuple_[featureIter])\n",
    "        X_trainDF = pd.DataFrame()\n",
    "        for feature in features: X_trainDF = pd.concat([X_trainDF,NBAtrain[NBAtrain['TEAM'] == team][feature]],axis=1)     \n",
    "        y_trainDF = NBAtrain[NBAtrain['TEAM'] == team]['RESULT']\n",
    "        model = DecisionTreeClassifier(random_state=0,max_depth=maxDepth)\n",
    "        model.fit(X_trainDF,y_trainDF)\n",
    "        models.append(model)\n",
    "        featureNames.append(features)\n",
    "    fig,axes = plt.subplots(nrows=1,ncols=2,figsize=(15,5))\n",
    "    ax0,ax1 = axes.flatten()\n",
    "    tree.plot_tree(models[0],fontsize=10,node_ids=True,filled=True,rounded=True,\n",
    "                   feature_names=featureNames[0],class_names=['0','1'],ax=ax0)\n",
    "    tree.plot_tree(models[1],fontsize=10,node_ids=True,filled=True,rounded=True,\n",
    "                   feature_names=featureNames[1],class_names=['0','1'],ax=ax1)\n",
    "    plt.show()\n",
    "def getDepth1Split(NBAdf,team,date):\n",
    "    NBAtrain = NBAdf[NBAdf['GAME DATE'] < date].dropna()\n",
    "    NBAtrain = NBAtrain[NBAtrain['TEAM'] == team]\n",
    "    X_trainDF = pd.DataFrame()\n",
    "    for feature in possibleFeatures:\n",
    "        X_trainDF = pd.concat([X_trainDF,NBAtrain[feature]],axis=1)\n",
    "    y_trainDF = NBAtrain['RESULT']\n",
    "    return getSplitOptions(team,X_trainDF,y_trainDF,datesPostAllStarGame[0])[0]"
   ]
  },
  {
   "cell_type": "code",
   "execution_count": 31,
   "id": "6a231c50",
   "metadata": {},
   "outputs": [],
   "source": [
    "def getGini(y):\n",
    "    classProbabilitiesSquared = []\n",
    "    possibleOutcomes = len(y)\n",
    "    for classCount in np.unique(y,return_counts=True)[1]: #edge case\n",
    "        classProbabilitiesSquared.append(((classCount/possibleOutcomes)**2))\n",
    "    gini = (1 - sum(classProbabilitiesSquared))\n",
    "    return gini\n",
    "def getSplitOptions(team,X_trainDF,y_trainDF,date):\n",
    "    teamDF = pd.concat([X_trainDF,y_trainDF],axis=1)\n",
    "    splitDict = {}\n",
    "    splitDict[date] = {}\n",
    "    splitOptions = []\n",
    "    index = 0\n",
    "    for feature in X_trainDF:\n",
    "        splitDict[date][feature] = {'splitOptions':[]}\n",
    "        for i in range (len(np.unique(X_trainDF[feature]))-1): #without i?\n",
    "            splitDict[date][feature]['splitOptions'].append((np.unique(X_trainDF[feature])[i]+\n",
    "                                                             np.unique(X_trainDF[feature])[i+1])/2)\n",
    "        for splitOption in splitDict[date][feature]['splitOptions']:\n",
    "            splitDict[date][feature][splitOption] = {}\n",
    "            LHS = teamDF[teamDF[feature] <= splitOption]\n",
    "            RHS = teamDF[teamDF[feature] > splitOption]\n",
    "\n",
    "            splitDict[date][feature][splitOption]['ROOT GINI'] = getGini(teamDF['RESULT'])\n",
    "            splitDict[date][feature][splitOption]['ROOT SAMPLES'] = len(LHS)+len(RHS)\n",
    "            splitDict[date][feature][splitOption]['LHS'] = len(LHS)\n",
    "            splitDict[date][feature][splitOption]['RHS'] = len(RHS)\n",
    "            WGI = getGini(LHS['RESULT'])*(len(LHS)/len(teamDF))+getGini(RHS['RESULT'])*(len(RHS)/len(teamDF))\n",
    "            splitDict[date][feature][splitOption]['LHS GINI'] = getGini(LHS['RESULT'])\n",
    "            splitDict[date][feature][splitOption]['RHS GINI'] = getGini(RHS['RESULT'])\n",
    "            splitDict[date][feature][splitOption]['WGI'] = WGI\n",
    "            splitOptions.append ([('INDEX',index),('DATE',date),\n",
    "                                  ('TEAM',team),('FEATURE',feature),\n",
    "                                  ('SPLIT OPTION',splitOption),\n",
    "                                  ('ROOT GINI',getGini(teamDF['RESULT'])),\n",
    "                                  ('ROOT SAMPLES',len(LHS)+len(RHS)),\n",
    "                                  ('LHS',len(LHS)),('RHS',len(RHS)),\n",
    "                                  ('LHS GINI',getGini(LHS['RESULT'])),\n",
    "                                  ('RHS GINI',getGini(RHS['RESULT'])),\n",
    "                                  ('WGI', WGI)])\n",
    "            index=index+1\n",
    "    return splitOptions\n",
    "#     WGI_index = splitOptions[0].index(splitOptions[0][-1])\n",
    "#     return sorted(splitOptions, key=lambda x:x[WGI_index])"
   ]
  },
  {
   "cell_type": "markdown",
   "id": "5a6768b3",
   "metadata": {},
   "source": [
    "# FIRST depth1 PREDICTION"
   ]
  },
  {
   "cell_type": "code",
   "execution_count": 32,
   "id": "13a4560c",
   "metadata": {},
   "outputs": [
    {
     "data": {
      "text/html": [
       "<div>\n",
       "<style scoped>\n",
       "    .dataframe tbody tr th:only-of-type {\n",
       "        vertical-align: middle;\n",
       "    }\n",
       "\n",
       "    .dataframe tbody tr th {\n",
       "        vertical-align: top;\n",
       "    }\n",
       "\n",
       "    .dataframe thead th {\n",
       "        text-align: right;\n",
       "    }\n",
       "</style>\n",
       "<table border=\"1\" class=\"dataframe\">\n",
       "  <thead>\n",
       "    <tr style=\"text-align: right;\">\n",
       "      <th></th>\n",
       "      <th>TEAM</th>\n",
       "      <th>GAME DATE</th>\n",
       "      <th>GAMEID</th>\n",
       "      <th>TRAIN SIZE</th>\n",
       "      <th>SPLIT DETAILS</th>\n",
       "      <th>X_test</th>\n",
       "      <th>FINAL NODE DETAILS</th>\n",
       "      <th>PROBABILITY ESTIMATE</th>\n",
       "      <th>MODEL PREDICTS</th>\n",
       "      <th>RESULT</th>\n",
       "      <th>SPREAD</th>\n",
       "    </tr>\n",
       "  </thead>\n",
       "  <tbody>\n",
       "    <tr>\n",
       "      <th>0</th>\n",
       "      <td>ORL</td>\n",
       "      <td>2024-02-22</td>\n",
       "      <td>22300792</td>\n",
       "      <td>50</td>\n",
       "      <td>{0: ('STLL2MA', 6.25)}</td>\n",
       "      <td>[(STLL2MA, 6.5, F)]</td>\n",
       "      <td>(2, 12.0, 26.0)</td>\n",
       "      <td>0.684211</td>\n",
       "      <td>1</td>\n",
       "      <td>1</td>\n",
       "      <td>5.0</td>\n",
       "    </tr>\n",
       "    <tr>\n",
       "      <th>1</th>\n",
       "      <td>CLE</td>\n",
       "      <td>2024-02-22</td>\n",
       "      <td>22300792</td>\n",
       "      <td>48</td>\n",
       "      <td>{0: ('PFL2MA', 17.75)}</td>\n",
       "      <td>[(PFL2MA, 17.5, T)]</td>\n",
       "      <td>(1, 0.0, 19.0)</td>\n",
       "      <td>1.0</td>\n",
       "      <td>1</td>\n",
       "      <td>0</td>\n",
       "      <td>-5.0</td>\n",
       "    </tr>\n",
       "  </tbody>\n",
       "</table>\n",
       "</div>"
      ],
      "text/plain": [
       "  TEAM   GAME DATE    GAMEID TRAIN SIZE           SPLIT DETAILS               X_test FINAL NODE DETAILS PROBABILITY ESTIMATE MODEL PREDICTS RESULT  \\\n",
       "0  ORL  2024-02-22  22300792         50  {0: ('STLL2MA', 6.25)}  [(STLL2MA, 6.5, F)]    (2, 12.0, 26.0)             0.684211              1      1   \n",
       "1  CLE  2024-02-22  22300792         48  {0: ('PFL2MA', 17.75)}  [(PFL2MA, 17.5, T)]     (1, 0.0, 19.0)                  1.0              1      0   \n",
       "\n",
       "  SPREAD  \n",
       "0    5.0  \n",
       "1   -5.0  "
      ]
     },
     "execution_count": 32,
     "metadata": {},
     "output_type": "execute_result"
    }
   ],
   "source": [
    "modelTestDetailsDict['depth1']['testDetailsDF'].iloc[0:2]"
   ]
  },
  {
   "cell_type": "code",
   "execution_count": 33,
   "id": "d0957b32",
   "metadata": {},
   "outputs": [
    {
     "data": {
      "text/html": [
       "<div>\n",
       "<style scoped>\n",
       "    .dataframe tbody tr th:only-of-type {\n",
       "        vertical-align: middle;\n",
       "    }\n",
       "\n",
       "    .dataframe tbody tr th {\n",
       "        vertical-align: top;\n",
       "    }\n",
       "\n",
       "    .dataframe thead th {\n",
       "        text-align: right;\n",
       "    }\n",
       "</style>\n",
       "<table border=\"1\" class=\"dataframe\">\n",
       "  <thead>\n",
       "    <tr style=\"text-align: right;\">\n",
       "      <th></th>\n",
       "      <th>MATCH UP</th>\n",
       "      <th>GAMEID</th>\n",
       "      <th>MODEL PREDICTS</th>\n",
       "      <th>ACTUAL WINNER</th>\n",
       "      <th>MODEL SCORE</th>\n",
       "      <th>GAME DATE</th>\n",
       "    </tr>\n",
       "  </thead>\n",
       "  <tbody>\n",
       "    <tr>\n",
       "      <th>0</th>\n",
       "      <td>ORL @ CLE</td>\n",
       "      <td>22300792</td>\n",
       "      <td>(CLE, ❌)</td>\n",
       "      <td>(ORL, 5.0)</td>\n",
       "      <td></td>\n",
       "      <td>2024-02-22</td>\n",
       "    </tr>\n",
       "  </tbody>\n",
       "</table>\n",
       "</div>"
      ],
      "text/plain": [
       "    MATCH UP    GAMEID MODEL PREDICTS ACTUAL WINNER MODEL SCORE   GAME DATE\n",
       "0  ORL @ CLE  22300792       (CLE, ❌)    (ORL, 5.0)              2024-02-22"
      ]
     },
     "execution_count": 33,
     "metadata": {},
     "output_type": "execute_result"
    }
   ],
   "source": [
    "modelTestDetailsDict['depth1']['matchResultsDF'].iloc[0:1]"
   ]
  },
  {
   "cell_type": "code",
   "execution_count": 34,
   "id": "299e3f04",
   "metadata": {},
   "outputs": [
    {
     "data": {
      "image/png": "[encoded data removed]",
      "text/plain": [
       "<Figure size 1080x360 with 2 Axes>"
      ]
     },
     "metadata": {
      "needs_background": "light"
     },
     "output_type": "display_data"
    }
   ],
   "source": [
    "plotTrees(NBAdf,('ORL','STLL2MA'),('CLE','PFL2MA'),datesPostAllStarGame[0],1)"
   ]
  },
  {
   "cell_type": "code",
   "execution_count": null,
   "id": "2a810107",
   "metadata": {},
   "outputs": [],
   "source": []
  },
  {
   "cell_type": "code",
   "execution_count": 35,
   "id": "d7aed4b2",
   "metadata": {},
   "outputs": [
    {
     "name": "stdout",
     "output_type": "stream",
     "text": [
      "('INDEX', 0)\n",
      "('DATE', datetime.date(2024, 2, 22))\n",
      "('TEAM', 'ORL')\n",
      "('FEATURE', 'H/A')\n",
      "('SPLIT OPTION', 0.5)\n",
      "('ROOT GINI', 0.4967999999999999)\n",
      "('ROOT SAMPLES', 50)\n",
      "('LHS', 25)\n",
      "('RHS', 25)\n",
      "('LHS GINI', 0.48)\n",
      "('RHS GINI', 0.4351999999999999)\n",
      "('WGI', 0.45759999999999995)\n",
      "\n",
      "('INDEX', 0)\n",
      "('DATE', datetime.date(2024, 2, 22))\n",
      "('TEAM', 'CLE')\n",
      "('FEATURE', 'H/A')\n",
      "('SPLIT OPTION', 0.5)\n",
      "('ROOT GINI', 0.4131944444444444)\n",
      "('ROOT SAMPLES', 48)\n",
      "('LHS', 23)\n",
      "('RHS', 25)\n",
      "('LHS GINI', 0.45368620037807184)\n",
      "('RHS GINI', 0.3648)\n",
      "('WGI', 0.4073913043478261)\n"
     ]
    }
   ],
   "source": [
    "print(*getDepth1Split(NBAdf,'ORL',datesPostAllStarGame[0]),sep='\\n')\n",
    "print()\n",
    "print(*getDepth1Split(NBAdf,'CLE',datesPostAllStarGame[0]),sep='\\n')"
   ]
  },
  {
   "cell_type": "markdown",
   "id": "5a98c4f5",
   "metadata": {},
   "source": [
    "# FIRST depth2 PREDICTION"
   ]
  },
  {
   "cell_type": "code",
   "execution_count": 36,
   "id": "b82e2478",
   "metadata": {},
   "outputs": [
    {
     "data": {
      "text/html": [
       "<div>\n",
       "<style scoped>\n",
       "    .dataframe tbody tr th:only-of-type {\n",
       "        vertical-align: middle;\n",
       "    }\n",
       "\n",
       "    .dataframe tbody tr th {\n",
       "        vertical-align: top;\n",
       "    }\n",
       "\n",
       "    .dataframe thead th {\n",
       "        text-align: right;\n",
       "    }\n",
       "</style>\n",
       "<table border=\"1\" class=\"dataframe\">\n",
       "  <thead>\n",
       "    <tr style=\"text-align: right;\">\n",
       "      <th></th>\n",
       "      <th>TEAM</th>\n",
       "      <th>GAME DATE</th>\n",
       "      <th>GAMEID</th>\n",
       "      <th>TRAIN SIZE</th>\n",
       "      <th>SPLIT DETAILS</th>\n",
       "      <th>X_test</th>\n",
       "      <th>FINAL NODE DETAILS</th>\n",
       "      <th>PROBABILITY ESTIMATE</th>\n",
       "      <th>MODEL PREDICTS</th>\n",
       "      <th>RESULT</th>\n",
       "      <th>SPREAD</th>\n",
       "    </tr>\n",
       "  </thead>\n",
       "  <tbody>\n",
       "    <tr>\n",
       "      <th>0</th>\n",
       "      <td>ORL</td>\n",
       "      <td>2024-02-22</td>\n",
       "      <td>22300792</td>\n",
       "      <td>50</td>\n",
       "      <td>{0: ('STLL2MA', 6.25), 1: ('OREBL1MA', 12.5)}</td>\n",
       "      <td>[(STLL2MA, 6.5, F), (OREBL1MA, 7.0, T)]</td>\n",
       "      <td>(5, 4.0, 22.0)</td>\n",
       "      <td>0.846154</td>\n",
       "      <td>1</td>\n",
       "      <td>1</td>\n",
       "      <td>5.0</td>\n",
       "    </tr>\n",
       "    <tr>\n",
       "      <th>1</th>\n",
       "      <td>CLE</td>\n",
       "      <td>2024-02-22</td>\n",
       "      <td>22300792</td>\n",
       "      <td>48</td>\n",
       "      <td>{0: ('PFL2MA', 17.75)}</td>\n",
       "      <td>[(PFL2MA, 17.5, T)]</td>\n",
       "      <td>(1, 0.0, 19.0)</td>\n",
       "      <td>1.0</td>\n",
       "      <td>1</td>\n",
       "      <td>0</td>\n",
       "      <td>-5.0</td>\n",
       "    </tr>\n",
       "  </tbody>\n",
       "</table>\n",
       "</div>"
      ],
      "text/plain": [
       "  TEAM   GAME DATE    GAMEID TRAIN SIZE                                  SPLIT DETAILS                                   X_test FINAL NODE DETAILS  \\\n",
       "0  ORL  2024-02-22  22300792         50  {0: ('STLL2MA', 6.25), 1: ('OREBL1MA', 12.5)}  [(STLL2MA, 6.5, F), (OREBL1MA, 7.0, T)]     (5, 4.0, 22.0)   \n",
       "1  CLE  2024-02-22  22300792         48                         {0: ('PFL2MA', 17.75)}                      [(PFL2MA, 17.5, T)]     (1, 0.0, 19.0)   \n",
       "\n",
       "  PROBABILITY ESTIMATE MODEL PREDICTS RESULT SPREAD  \n",
       "0             0.846154              1      1    5.0  \n",
       "1                  1.0              1      0   -5.0  "
      ]
     },
     "execution_count": 36,
     "metadata": {},
     "output_type": "execute_result"
    }
   ],
   "source": [
    "modelTestDetailsDict['depth2']['testDetailsDF'].iloc[0:2]"
   ]
  },
  {
   "cell_type": "code",
   "execution_count": 37,
   "id": "84a2a1f9",
   "metadata": {},
   "outputs": [
    {
     "data": {
      "text/html": [
       "<div>\n",
       "<style scoped>\n",
       "    .dataframe tbody tr th:only-of-type {\n",
       "        vertical-align: middle;\n",
       "    }\n",
       "\n",
       "    .dataframe tbody tr th {\n",
       "        vertical-align: top;\n",
       "    }\n",
       "\n",
       "    .dataframe thead th {\n",
       "        text-align: right;\n",
       "    }\n",
       "</style>\n",
       "<table border=\"1\" class=\"dataframe\">\n",
       "  <thead>\n",
       "    <tr style=\"text-align: right;\">\n",
       "      <th></th>\n",
       "      <th>MATCH UP</th>\n",
       "      <th>GAMEID</th>\n",
       "      <th>MODEL PREDICTS</th>\n",
       "      <th>ACTUAL WINNER</th>\n",
       "      <th>MODEL SCORE</th>\n",
       "      <th>GAME DATE</th>\n",
       "    </tr>\n",
       "  </thead>\n",
       "  <tbody>\n",
       "    <tr>\n",
       "      <th>0</th>\n",
       "      <td>ORL @ CLE</td>\n",
       "      <td>22300792</td>\n",
       "      <td>(CLE, ❌)</td>\n",
       "      <td>(ORL, 5.0)</td>\n",
       "      <td></td>\n",
       "      <td>2024-02-22</td>\n",
       "    </tr>\n",
       "  </tbody>\n",
       "</table>\n",
       "</div>"
      ],
      "text/plain": [
       "    MATCH UP    GAMEID MODEL PREDICTS ACTUAL WINNER MODEL SCORE   GAME DATE\n",
       "0  ORL @ CLE  22300792       (CLE, ❌)    (ORL, 5.0)              2024-02-22"
      ]
     },
     "execution_count": 37,
     "metadata": {},
     "output_type": "execute_result"
    }
   ],
   "source": [
    "modelTestDetailsDict['depth2']['matchResultsDF'].iloc[0:1]"
   ]
  },
  {
   "cell_type": "code",
   "execution_count": 38,
   "id": "8affe9d4",
   "metadata": {},
   "outputs": [
    {
     "data": {
      "image/png": "[encoded data removed]",
      "text/plain": [
       "<Figure size 1080x360 with 2 Axes>"
      ]
     },
     "metadata": {
      "needs_background": "light"
     },
     "output_type": "display_data"
    }
   ],
   "source": [
    "plotTrees(NBAdf,('ORL','STLL2MA','OREBL1MA'),('CLE','PFL2MA'),datesPostAllStarGame[0],2)"
   ]
  },
  {
   "cell_type": "code",
   "execution_count": 39,
   "id": "68d33fa9",
   "metadata": {},
   "outputs": [],
   "source": [
    "def getDepth2Split(NBAdf,team,date):\n",
    "    NBAtrain = NBAdf[NBAdf['GAME DATE'] < date].dropna()\n",
    "    NBAtrain = NBAtrain[NBAtrain['TEAM'] == team]\n",
    "    if team == 'ORL':\n",
    "        NBAtrain = NBAtrain[NBAtrain['STLL2MA'] > 6.25]\n",
    "    if team == 'CLE': return 'N/A'\n",
    "    X_trainDF = pd.DataFrame()\n",
    "    for feature in possibleFeatures:\n",
    "        X_trainDF = pd.concat([X_trainDF,NBAtrain[feature]],axis=1)\n",
    "    y_trainDF = NBAtrain['RESULT']\n",
    "    return getSplitOptions(team,X_trainDF,y_trainDF,datesPostAllStarGame[0])[0]"
   ]
  },
  {
   "cell_type": "code",
   "execution_count": 40,
   "id": "02d04c75",
   "metadata": {},
   "outputs": [
    {
     "name": "stdout",
     "output_type": "stream",
     "text": [
      "('INDEX', 0)\n",
      "('DATE', datetime.date(2024, 2, 22))\n",
      "('TEAM', 'ORL')\n",
      "('FEATURE', 'H/A')\n",
      "('SPLIT OPTION', 0.5)\n",
      "('ROOT GINI', 0.43213296398891965)\n",
      "('ROOT SAMPLES', 38)\n",
      "('LHS', 17)\n",
      "('RHS', 21)\n",
      "('LHS GINI', 0.4844290657439446)\n",
      "('RHS GINI', 0.36281179138322006)\n",
      "('WGI', 0.4172195193867021)\n",
      "\n",
      "N / A\n"
     ]
    }
   ],
   "source": [
    "print(*getDepth2Split(NBAdf,'ORL',datesPostAllStarGame[0]),sep='\\n')\n",
    "print()\n",
    "print(*getDepth2Split(NBAdf,'CLE',datesPostAllStarGame[0]))"
   ]
  },
  {
   "cell_type": "code",
   "execution_count": 41,
   "id": "802c7b07",
   "metadata": {},
   "outputs": [],
   "source": [
    "def getMatchResultsByTeam(matchResultsDF):\n",
    "    wonLostCount = {}\n",
    "    teamPredictions = {}\n",
    "    for team_ in NBAteams:\n",
    "        wonLostCount[(team_,'✅')] = 0\n",
    "        wonLostCount[(team_,'❌')] = 0\n",
    "        teamPredictions[team_] = {}\n",
    "    for i in range(len(matchResultsDF)):\n",
    "        key = matchResultsDF.iloc[i]['MODEL PREDICTS']\n",
    "        if key != ' ' and key != 'EQUAL P1s':\n",
    "            wonLostCount[key] = wonLostCount[key]+1\n",
    "    for team_ in NBAteams:\n",
    "        teamPredictions[team_]['✅'] = wonLostCount[(team_,'✅')]\n",
    "        teamPredictions[team_]['❌'] = wonLostCount[(team_,'❌')]\n",
    "    teamPredictionsDF = pd.DataFrame(teamPredictions).T\n",
    "    teamPredictionsDF['W%'] = round(teamPredictionsDF['✅'] / (teamPredictionsDF['✅']+teamPredictionsDF['❌']),3)\n",
    "    return teamPredictionsDF"
   ]
  },
  {
   "cell_type": "code",
   "execution_count": 42,
   "id": "e8b0c516",
   "metadata": {},
   "outputs": [],
   "source": [
    "matchResultsByTeamDF = pd.concat([getMatchResultsByTeam(modelTestDetailsDict['depth1']['matchResultsDF']).rename(columns=({'✅':'D1✅','❌':'D1❌','W%':'D1W%'})),\n",
    "                                  getMatchResultsByTeam(modelTestDetailsDict['depth2']['matchResultsDF']).rename(columns=({'✅':'D2✅','❌':'D2❌','W%':'D2W%'}))],axis=1)"
   ]
  },
  {
   "cell_type": "code",
   "execution_count": 43,
   "id": "359dab69",
   "metadata": {},
   "outputs": [],
   "source": [
    "#matchResultsByTeamDF"
   ]
  },
  {
   "cell_type": "code",
   "execution_count": 44,
   "id": "5068b442",
   "metadata": {},
   "outputs": [
    {
     "data": {
      "image/png": "[encoded data removed]",
      "text/plain": [
       "<Figure size 1080x360 with 1 Axes>"
      ]
     },
     "metadata": {
      "needs_background": "light"
     },
     "output_type": "display_data"
    }
   ],
   "source": [
    "plt.figure(figsize=(15,5))\n",
    "plt.scatter(matchResultsByTeamDF.index,matchResultsByTeamDF['D1W%'],c='red',marker='o');\n",
    "plt.scatter(matchResultsByTeamDF.index,matchResultsByTeamDF['D2W%'],c='blue',marker='o');\n",
    "plt.show()"
   ]
  },
  {
   "cell_type": "code",
   "execution_count": 45,
   "id": "3b9bd9db",
   "metadata": {},
   "outputs": [
    {
     "data": {
      "image/png": "[encoded data removed]",
      "text/plain": [
       "<Figure size 1080x360 with 1 Axes>"
      ]
     },
     "metadata": {
      "needs_background": "light"
     },
     "output_type": "display_data"
    }
   ],
   "source": [
    "plt.figure(figsize=(15,5))\n",
    "plt.scatter(matchResultsByTeamDF.index,matchResultsByTeamDF['D1✅'],c='red',marker='o');\n",
    "plt.scatter(matchResultsByTeamDF.index,matchResultsByTeamDF['D2✅'],c='blue',marker='o');\n",
    "plt.show()"
   ]
  },
  {
   "cell_type": "code",
   "execution_count": 46,
   "id": "d3a30d39",
   "metadata": {},
   "outputs": [
    {
     "data": {
      "image/png": "[encoded data removed]",
      "text/plain": [
       "<Figure size 1080x360 with 1 Axes>"
      ]
     },
     "metadata": {
      "needs_background": "light"
     },
     "output_type": "display_data"
    }
   ],
   "source": [
    "plt.figure(figsize=(15,5))\n",
    "plt.scatter(matchResultsByTeamDF.index,matchResultsByTeamDF['D1❌'],c='red',marker='o');\n",
    "plt.scatter(matchResultsByTeamDF.index,matchResultsByTeamDF['D2❌'],c='blue',marker='o');\n",
    "plt.show()"
   ]
  },
  {
   "cell_type": "code",
   "execution_count": null,
   "id": "265911a7",
   "metadata": {},
   "outputs": [],
   "source": []
  },
  {
   "cell_type": "code",
   "execution_count": null,
   "id": "d6873269",
   "metadata": {},
   "outputs": [],
   "source": []
  },
  {
   "cell_type": "code",
   "execution_count": 47,
   "id": "74d05ef9",
   "metadata": {},
   "outputs": [
    {
     "ename": "NameError",
     "evalue": "name 'X_testDF' is not defined",
     "output_type": "error",
     "traceback": [
      "\u001b[0;31m---------------------------------------------------------------------------\u001b[0m",
      "\u001b[0;31mNameError\u001b[0m                                 Traceback (most recent call last)",
      "\u001b[0;32m<ipython-input-47-e726a99b50a5>\u001b[0m in \u001b[0;36m<module>\u001b[0;34m\u001b[0m\n\u001b[0;32m----> 1\u001b[0;31m \u001b[0mprint\u001b[0m\u001b[0;34m(\u001b[0m\u001b[0mX_testDF\u001b[0m\u001b[0;34m.\u001b[0m\u001b[0mcolumns\u001b[0m\u001b[0;34m[\u001b[0m\u001b[0mmodel\u001b[0m\u001b[0;34m.\u001b[0m\u001b[0mtree_\u001b[0m\u001b[0;34m.\u001b[0m\u001b[0mfeature\u001b[0m\u001b[0;34m[\u001b[0m\u001b[0;36m0\u001b[0m\u001b[0;34m]\u001b[0m\u001b[0;34m]\u001b[0m\u001b[0;34m)\u001b[0m \u001b[0;31m#feature[i]: feature used for splitting node i\u001b[0m\u001b[0;34m\u001b[0m\u001b[0;34m\u001b[0m\u001b[0m\n\u001b[0m",
      "\u001b[0;31mNameError\u001b[0m: name 'X_testDF' is not defined"
     ]
    }
   ],
   "source": [
    "print(X_testDF.columns[model.tree_.feature[0]]) #feature[i]: feature used for splitting node i"
   ]
  },
  {
   "cell_type": "raw",
   "id": "a585f3fd",
   "metadata": {},
   "source": [
    "#https://scikit-learn.org/stable/auto_examples/tree/plot_unveil_tree_structure.html#sphx-glr-auto-examples-tree-plot-unveil-tree-structure-py"
   ]
  },
  {
   "cell_type": "code",
   "execution_count": null,
   "id": "8b07309e",
   "metadata": {},
   "outputs": [],
   "source": [
    "print(model.tree_.value[path[-1],0,0])  #output j ???? \n",
    "print(model.tree_.value[path[-1],0,1])"
   ]
  },
  {
   "cell_type": "raw",
   "id": "931b0894",
   "metadata": {},
   "source": [
    "value[i, j, k]: the summary of the training samples that reached node i for output j and class k (for regression tree, class is set to 1).\n",
    "https://scikit-learn.org/stable/auto_examples/tree/plot_unveil_tree_structure.html#sphx-glr-auto-examples-tree-plot-unveil-tree-structure-py"
   ]
  },
  {
   "cell_type": "code",
   "execution_count": null,
   "id": "288a791c",
   "metadata": {},
   "outputs": [],
   "source": [
    "# team = 'ORL'\n",
    "# X_trainDF = pd.DataFrame()\n",
    "# for feature in possibleFeatures:\n",
    "#     X_trainDF = pd.concat([X_trainDF,NBAtrain[NBAtrain['TEAM'] == team][feature]],axis=1)\n",
    "# y_trainDF = NBAtrain[NBAtrain['TEAM'] == team]['RESULT']\n",
    "# model = DecisionTreeClassifier(random_state=0,max_depth=1)\n",
    "# model.fit(X_trainDF,y_trainDF)\n",
    "# plt.figure(figsize=(15,7))\n",
    "# tree.plot_tree(model,fontsize=10,node_ids=True,filled=True,rounded=True,\n",
    "# feature_names=possibleFeatures.tolist(),class_names=['0','1'])\n",
    "# plt.show()"
   ]
  },
  {
   "cell_type": "code",
   "execution_count": null,
   "id": "437f669d",
   "metadata": {},
   "outputs": [],
   "source": [
    "pd.DataFrame(modelResultDetails[datesPostAllStarGame[0]]).T.reset_index(drop=False).rename(columns=({'index':'TEAM'})).head(2)\n",
    "###confused by columns order"
   ]
  },
  {
   "cell_type": "code",
   "execution_count": null,
   "id": "5326bf0b",
   "metadata": {},
   "outputs": [],
   "source": [
    "scoreResultsDF"
   ]
  },
  {
   "cell_type": "code",
   "execution_count": null,
   "id": "999f21af",
   "metadata": {},
   "outputs": [],
   "source": []
  },
  {
   "cell_type": "code",
   "execution_count": null,
   "id": "98e0145c",
   "metadata": {},
   "outputs": [],
   "source": [
    "splitOptions = getSplitOptions(NBAdf,'ORL',datesPostAllStarGame[0])"
   ]
  },
  {
   "cell_type": "code",
   "execution_count": null,
   "id": "0e69f822",
   "metadata": {},
   "outputs": [],
   "source": [
    "print('List of tuples, first element:\\n')\n",
    "print(*splitOptions[0],sep='\\n')\n",
    "print('\\nIndex of last element in list:',splitOptions[0].index(splitOptions[0][-1]))\n",
    "print('Length of splitOptions:',len(splitOptions))"
   ]
  },
  {
   "cell_type": "code",
   "execution_count": null,
   "id": "2fe334da",
   "metadata": {},
   "outputs": [],
   "source": [
    "#sorted(splitOptions, key=lambda x:x[WGI_index])[0:5]"
   ]
  },
  {
   "cell_type": "raw",
   "id": "c351d594",
   "metadata": {},
   "source": [
    "The lambda function takes each word `x` from the list and returns its length, which is used for sorting.\n",
    "vs list.sort() vs tuple.sort vs np.sort()\n",
    "deep copy vs equal to\n",
    "Every Feature has a split count, 3738 split counts vs 2460 in NBAdf\n",
    "pretty print\n",
    "#if returned a dict -> splitOptions[datetime.date(2024, 2, 22)]"
   ]
  },
  {
   "cell_type": "code",
   "execution_count": null,
   "id": "9a14060f",
   "metadata": {},
   "outputs": [],
   "source": [
    "# WGI_index = splitOptions[0].index(splitOptions[0][-1])\n",
    "# sorted(splitOptions, key=lambda x:x[WGI_index])"
   ]
  },
  {
   "cell_type": "code",
   "execution_count": null,
   "id": "6ae7fa39",
   "metadata": {},
   "outputs": [],
   "source": [
    "print('CALCULATE WGI',testWGI(11,1,12,26))"
   ]
  },
  {
   "cell_type": "code",
   "execution_count": null,
   "id": "710dfc35",
   "metadata": {},
   "outputs": [],
   "source": [
    "def testGini(C0,C1):\n",
    "    P0 = C0/(C0+C1)\n",
    "    P1 = C1/(C0+C1)\n",
    "    return 1 - (P0**2 + P1**2)\n",
    "def testWGI(L0,L1,R0,R1):\n",
    "    LEFT = ((L0+L1)/(L0+L1+R0+R1)) * testGini(L0,L1)\n",
    "    RIGHT = ((R0+R1)/(L0+L1+R0+R1)) * testGini(R0,R1)\n",
    "    return LEFT + RIGHT\n",
    "# print('PFL2MA',testWGI(0,19,14,15))\n",
    "# print('2P%L1MA',testWGI(6,1,8,33))\n",
    "# print('PFL1MA',testWGI(4,26,10,8))\n",
    "print(testWGI(11,1,12,26))\n",
    "# WGI = getGini(LHS[targetString])*(len(LHS)/len(df))+getGini(RHS[targetString])*(len(RHS)/len(df))"
   ]
  },
  {
   "cell_type": "code",
   "execution_count": null,
   "id": "57816df2",
   "metadata": {},
   "outputs": [],
   "source": [
    "# depth1Result = train(NBAdf,datesPostAllStarGame,1)\n",
    "# # depth2Result = train(NBAdf,datesPostAllStarGame,2)\n",
    "# # depth3Result = train(NBAdf,datesPostAllStarGame,3)"
   ]
  },
  {
   "cell_type": "code",
   "execution_count": null,
   "id": "d09c0eff",
   "metadata": {},
   "outputs": [],
   "source": []
  },
  {
   "cell_type": "code",
   "execution_count": null,
   "id": "0d4898f1",
   "metadata": {},
   "outputs": [],
   "source": [
    "depth1Predictions = []\n",
    "depth2Predictions = []\n",
    "depth3Predictions = []\n",
    "for date_ in datesPostAllStarGame:\n",
    "    depth1Predictions.append(depth1Result[date_]['matchResultsDF'])\n",
    "    depth2Predictions.append(depth2Result[date_]['matchResultsDF'])\n",
    "    depth3Predictions.append(depth3Result[date_]['matchResultsDF'])"
   ]
  },
  {
   "cell_type": "code",
   "execution_count": null,
   "id": "8a24b15c",
   "metadata": {},
   "outputs": [],
   "source": [
    "depth1PredictionsDF = getTeamsVegasFavored(depth1Predictions)\n",
    "depth2PredictionsDF = getTeamsVegasFavored(depth2Predictions)\n",
    "depth3PredictionsDF = getTeamsVegasFavored(depth3Predictions)\n",
    "\n",
    "scoreResults = {}\n",
    "scoreResults['depth1PredictionsDF'] = {'modelScore':float,'vegasScore':float}\n",
    "scoreResults['depth2PredictionsDF'] = {'modelScore':float,'vegasScore':float}\n",
    "scoreResults['depth3PredictionsDF'] = {'modelScore':float,'vegasScore':float}"
   ]
  },
  {
   "cell_type": "code",
   "execution_count": null,
   "id": "fbcbdf69",
   "metadata": {},
   "outputs": [],
   "source": [
    "scoreResults['depth1PredictionsDF']['modelScore'] = getModelSeasonScore(depth1PredictionsDF)\n",
    "scoreResults['depth1PredictionsDF']['vegasScore'] = getVegasSeasonScore(depth1PredictionsDF)\n",
    "\n",
    "scoreResults['depth2PredictionsDF']['modelScore'] = getModelSeasonScore(depth2PredictionsDF)\n",
    "scoreResults['depth2PredictionsDF']['vegasScore'] = getVegasSeasonScore(depth2PredictionsDF)\n",
    "\n",
    "scoreResults['depth3PredictionsDF']['modelScore'] = getModelSeasonScore(depth3PredictionsDF)\n",
    "scoreResults['depth3PredictionsDF']['vegasScore'] = getVegasSeasonScore(depth3PredictionsDF)"
   ]
  },
  {
   "cell_type": "code",
   "execution_count": null,
   "id": "f5abcbd2",
   "metadata": {},
   "outputs": [],
   "source": [
    "pd.DataFrame(scoreResults).T.style.highlight_max(color='pink')  \n",
    "#model = tree.DecisionTreeClassifier(random_state=0,max_depth=maxdepth,min_samples_leaf=10)"
   ]
  },
  {
   "cell_type": "code",
   "execution_count": null,
   "id": "5575e28d",
   "metadata": {},
   "outputs": [],
   "source": []
  },
  {
   "cell_type": "code",
   "execution_count": null,
   "id": "51b030ef",
   "metadata": {},
   "outputs": [],
   "source": []
  },
  {
   "cell_type": "code",
   "execution_count": null,
   "id": "328be677",
   "metadata": {},
   "outputs": [],
   "source": [
    "print(depth1Result[datesPostAllStarGame[0]]['pathDF'][0:2],'\\n')\n",
    "print(depth1Result[datesPostAllStarGame[0]]['matchResultsDF'][0:1])\n",
    "plotTrees(NBAdf,('ORL','STLL2MA'),('CLE','PFL2MA'),datesPostAllStarGame[0],1)\n",
    "# datesPostAllStarGame[0] # datetime.date(2024, 2, 22)"
   ]
  },
  {
   "cell_type": "code",
   "execution_count": null,
   "id": "2b2c124c",
   "metadata": {},
   "outputs": [],
   "source": [
    "print(getSplitOptionsDF[0:10])"
   ]
  },
  {
   "cell_type": "markdown",
   "id": "92ed4a98",
   "metadata": {},
   "source": [
    "# WHY 2P%L1MA RANKS SO HIGH VS PFL1MA"
   ]
  },
  {
   "cell_type": "code",
   "execution_count": null,
   "id": "0f13ca6c",
   "metadata": {},
   "outputs": [],
   "source": [
    "NBAtrain = NBAdf[NBAdf['GAME DATE'] < datesPostAllStarGame[0]].dropna()\n",
    "NBAtrain = NBAtrain[NBAtrain['TEAM'] == 'CLE']\n",
    "feature_ = '2P%L1MA'\n",
    "X_train = NBAtrain[feature_].reset_index(drop=True)\n",
    "X_train = np.array(X_train)\n",
    "X_train = np.reshape(X_train,(len(X_train),1))\n",
    "y_train = NBAtrain['RESULT'].reset_index(drop=True)\n",
    "y_train = np.array(y_train)\n",
    "\n",
    "model = tree.DecisionTreeClassifier(random_state=0,max_depth=1)\n",
    "model.fit(X_train,y_train)\n",
    "plt.figure(figsize=(15,7))\n",
    "tree.plot_tree(model,fontsize=10,node_ids=True,filled=True,rounded=True,\n",
    "               feature_names=[feature_],class_names=['0','1'])\n",
    "plt.show()\n",
    "\n",
    "feature_ = 'PFL1MA'\n",
    "X_train = NBAtrain[feature_].reset_index(drop=True)\n",
    "X_train = np.array(X_train)\n",
    "X_train = np.reshape(X_train,(len(X_train),1))\n",
    "y_train = NBAtrain['RESULT'].reset_index(drop=True)\n",
    "y_train = np.array(y_train)\n",
    "\n",
    "model = tree.DecisionTreeClassifier(random_state=0,max_depth=1)\n",
    "model.fit(X_train,y_train)\n",
    "plt.figure(figsize=(15,7))\n",
    "tree.plot_tree(model,fontsize=10,node_ids=True,filled=True,rounded=True,\n",
    "               feature_names=[feature_],class_names=['0','1'])\n",
    "plt.show()"
   ]
  },
  {
   "cell_type": "code",
   "execution_count": null,
   "id": "3a32896e",
   "metadata": {},
   "outputs": [],
   "source": []
  },
  {
   "cell_type": "markdown",
   "id": "6e465675",
   "metadata": {},
   "source": [
    "# DEPTH = 2"
   ]
  },
  {
   "cell_type": "code",
   "execution_count": null,
   "id": "0fa35ff1",
   "metadata": {},
   "outputs": [],
   "source": [
    "plotTree(NBAdf,datesPostAllStarGame[0],'CLE',2)"
   ]
  },
  {
   "cell_type": "code",
   "execution_count": null,
   "id": "4b0d08a6",
   "metadata": {},
   "outputs": [],
   "source": [
    "NBAtrain = NBAdf[NBAdf['GAME DATE'] < datesPostAllStarGame[0]].dropna()\n",
    "NBAtrain = NBAtrain[NBAtrain['TEAM'] == 'CLE']\n",
    "NBAtrain = NBAtrain[NBAtrain['PFL2MA'] > 17.75]\n",
    "trainDF = pd.DataFrame()\n",
    "testDF = pd.DataFrame()\n",
    "for feature in possibleFeatures:\n",
    "    trainDF = pd.concat([trainDF,NBAtrain[feature]],axis=1)\n",
    "X_train = trainDF\n",
    "y_train = NBAtrain['RESULT']\n",
    "df = pd.concat([X_train,y_train],axis=1)\n",
    "getSplitOptionsDF = pd.DataFrame(getSplitOptions(df)).T\n",
    "getSplitOptionsDF = getSplitOptionsDF.reset_index().rename(columns={'index':'SPLIT'}).sort_values(by='WGI').reset_index(drop=True)"
   ]
  },
  {
   "cell_type": "code",
   "execution_count": null,
   "id": "f9fd1f45",
   "metadata": {},
   "outputs": [],
   "source": [
    "print(getSplitOptionsDF[0:10])"
   ]
  },
  {
   "cell_type": "markdown",
   "id": "8e9ac2fb",
   "metadata": {},
   "source": [
    "# DEPTH = 3"
   ]
  },
  {
   "cell_type": "code",
   "execution_count": null,
   "id": "0d1a27c7",
   "metadata": {},
   "outputs": [],
   "source": [
    "plotTree(NBAdf,datesPostAllStarGame[0],'CLE',3)"
   ]
  },
  {
   "cell_type": "code",
   "execution_count": null,
   "id": "380f9d98",
   "metadata": {},
   "outputs": [],
   "source": []
  },
  {
   "cell_type": "code",
   "execution_count": null,
   "id": "e123b5a8",
   "metadata": {},
   "outputs": [],
   "source": [
    "modelResultsDF"
   ]
  },
  {
   "cell_type": "code",
   "execution_count": null,
   "id": "485f3db0",
   "metadata": {},
   "outputs": [],
   "source": [
    "depth1Predictions = depth1Result[0]\n",
    "depth1Paths = depth1Result[1]\n",
    "depth1ResultsDF = getTeamsVegasFavored(depth1Predictions)\n",
    "\n",
    "depth2Predictions = depth2Result[0]\n",
    "depth2Paths = depth2Result[1]\n",
    "depth2ResultsDF = getTeamsVegasFavored(depth2Predictions)\n",
    "\n",
    "depth3Predictions = depth3Result[0]\n",
    "depth3Paths = depth3Result[1]\n",
    "depth3ResultsDF = getTeamsVegasFavored(depth3Predictions)"
   ]
  },
  {
   "cell_type": "code",
   "execution_count": null,
   "id": "df474e06",
   "metadata": {},
   "outputs": [],
   "source": [
    "modelResultsByTeam = getModelResultsByTeam(depth1ResultsDF,depth2ResultsDF,depth3ResultsDF)"
   ]
  },
  {
   "cell_type": "code",
   "execution_count": null,
   "id": "f0e89348",
   "metadata": {},
   "outputs": [],
   "source": [
    "modelResultsByTeam = modelResultsByTeam.reset_index().rename(columns={'index':'team'})"
   ]
  },
  {
   "cell_type": "code",
   "execution_count": null,
   "id": "e99099ac",
   "metadata": {},
   "outputs": [],
   "source": [
    "modelResultsByTeam.sort_values(by='D1✅',ascending=False)"
   ]
  },
  {
   "cell_type": "raw",
   "id": "346b2448",
   "metadata": {},
   "source": [
    "RED:D1 | BLUE:D2"
   ]
  },
  {
   "cell_type": "code",
   "execution_count": null,
   "id": "151006ed",
   "metadata": {},
   "outputs": [],
   "source": [
    "plt.figure(figsize=(20,5))\n",
    "plt.xticks(modelResultsByTeam.index)\n",
    "plt.scatter(modelResultsByTeam['team'],modelResultsByTeam['D1WIN%'],c='red',marker='o');\n",
    "plt.scatter(modelResultsByTeam['team'],modelResultsByTeam['D2WIN%'],c='blue',marker='o');\n",
    "plt.show()"
   ]
  },
  {
   "cell_type": "raw",
   "id": "38058f56",
   "metadata": {},
   "source": [
    "RED:D1 | BLUE:D2"
   ]
  },
  {
   "cell_type": "code",
   "execution_count": null,
   "id": "19436188",
   "metadata": {},
   "outputs": [],
   "source": [
    "plt.figure(figsize=(20,5))\n",
    "plt.xticks(modelResultsByTeam.index)\n",
    "plt.scatter(modelResultsByTeam['team'],modelResultsByTeam['D1✅'],c='red',marker='o');\n",
    "plt.scatter(modelResultsByTeam['team'],modelResultsByTeam['D2✅'],c='blue',marker='o');\n",
    "plt.show()"
   ]
  },
  {
   "cell_type": "raw",
   "id": "cdde8967",
   "metadata": {},
   "source": [
    "RED:D1 | BLUE:D2"
   ]
  },
  {
   "cell_type": "code",
   "execution_count": null,
   "id": "12793294",
   "metadata": {},
   "outputs": [],
   "source": [
    "plt.figure(figsize=(20,5))\n",
    "plt.xticks(modelResultsByTeam.index)\n",
    "plt.scatter(modelResultsByTeam['team'],modelResultsByTeam['D1❌'],c='red',marker='o');\n",
    "plt.scatter(modelResultsByTeam['team'],modelResultsByTeam['D2❌'],c='blue',marker='o');\n",
    "plt.show()"
   ]
  },
  {
   "cell_type": "code",
   "execution_count": null,
   "id": "6d1e8c5f",
   "metadata": {},
   "outputs": [],
   "source": [
    "scoreResultsDF.T.style.highlight_max(color='pink') "
   ]
  },
  {
   "cell_type": "code",
   "execution_count": null,
   "id": "f34b0c3c",
   "metadata": {},
   "outputs": [],
   "source": [
    "glossaryDF = pd.read_csv('/Users/olutosinfashusi/jupyter/csv/fromNBADOTCOM/glossary/glossary.csv')\n",
    "glossaryDict = {}\n",
    "for i in range(len(glossaryDF)):\n",
    "    stringInRow = glossaryDF.iloc[i].values[0]\n",
    "    if stringInRow == 'Name':\n",
    "        feature = glossaryDF.iloc[i-1].values[0]\n",
    "        feature = feature.upper()\n",
    "        glossaryDict[feature] = {}\n",
    "        glossaryDict[feature]['Name'] = {}\n",
    "        glossaryDict[feature]['Name'] = glossaryDF.iloc[i+1].values[0]\n",
    "        glossaryDict[feature]['Definition'] = {}\n",
    "        glossaryDict[feature]['Definition'] = glossaryDF.iloc[i+3].values[0]\n",
    "        glossaryDict[feature]['Type'] = {}\n",
    "        glossaryDict[feature]['Type'] = glossaryDF.iloc[i+5].values[0]\n",
    "        glossaryDict[feature]['Contexts'] = {}\n",
    "        glossaryDict[feature]['Contexts'] = glossaryDF.iloc[i+7].values[0]"
   ]
  },
  {
   "cell_type": "code",
   "execution_count": null,
   "id": "438a7efd",
   "metadata": {},
   "outputs": [],
   "source": [
    "# teamFeatures = {}\n",
    "# for team in NBAteams:\n",
    "#     teamFeatures[team] = {}\n",
    "#     teamFeatures[team]['depth1'] = []\n",
    "# for team in NBAteams:\n",
    "#     df = modelTestDetailsDict['depth1']['testDetailsDF']\n",
    "#     df = df[df['TEAM'] == team].reset_index(drop=True)\n",
    "#     for i in range(len(df['SPLIT DETAILS'])):\n",
    "#         teamFeatures[team]['depth1'].append(df['SPLIT DETAILS'].iloc[i][0][0])\n",
    "\n",
    "# teamFeaturesDF = pd.DataFrame()\n",
    "# for team in NBAteams:\n",
    "#     uniqueFeatures = np.unique(teamFeatures[team]['depth1'],return_counts=True)\n",
    "#     index_ = np.full(len(uniqueFeatures[1]),team)\n",
    "#     teamDF = pd.DataFrame(uniqueFeatures,columns=index_).T\n",
    "#     teamDF = teamDF.rename(columns={0:'FEATURE',1:'COUNT'})\n",
    "#     teamDF = teamDF.sort_values(by='COUNT',ascending=False)\n",
    "#     teamFeaturesDF = pd.concat([teamFeaturesDF,teamDF.head(1)],axis=0)\n",
    "    \n",
    "# glossary = []\n",
    "# for team in NBAteams:\n",
    "#     feature = teamFeaturesDF.loc[team]['FEATURE']\n",
    "#     subStringsToRemove = ['L1MA','L2MA','L3MA','L4MA','L5MA']\n",
    "#     for subString in subStringsToRemove:\n",
    "#         feature = feature.replace(subString, '')\n",
    "#     glossary.append(glossaryDict[feature]['Definition'])\n",
    "\n",
    "# teamFeaturesDF['DEFINITION'] = glossary\n",
    "# teamFeaturesDF"
   ]
  },
  {
   "cell_type": "code",
   "execution_count": null,
   "id": "a6ea0a5b",
   "metadata": {},
   "outputs": [],
   "source": []
  }
 ],
 "metadata": {
  "kernelspec": {
   "display_name": "Python 3",
   "language": "python",
   "name": "python3"
  },
  "language_info": {
   "codemirror_mode": {
    "name": "ipython",
    "version": 3
   },
   "file_extension": ".py",
   "mimetype": "text/x-python",
   "name": "python",
   "nbconvert_exporter": "python",
   "pygments_lexer": "ipython3",
   "version": "3.8.8"
  }
 },
 "nbformat": 4,
 "nbformat_minor": 5
}
